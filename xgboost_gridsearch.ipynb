{
 "cells": [
  {
   "cell_type": "markdown",
   "metadata": {},
   "source": [
    "# Importation des données"
   ]
  },
  {
   "cell_type": "code",
   "execution_count": 4,
   "metadata": {},
   "outputs": [
    {
     "name": "stdout",
     "output_type": "stream",
     "text": [
      "Dimensions of datasets :\n",
      " * Training set : (61878, 93)\n",
      " * Test set     : (144368, 93)\n"
     ]
    }
   ],
   "source": [
    "#!/usr/bin/python3\n",
    "# -*- coding: utf-8 -*-\n",
    "\n",
    "import numpy as np\n",
    "\n",
    "import xgboost as xgb\n",
    "from sklearn.metrics import mean_squared_error\n",
    "from sklearn.metrics import log_loss\n",
    "from sklearn.model_selection import GridSearchCV\n",
    "from sklearn import preprocessing\n",
    "\n",
    "from toolbox import load_otto_db\n",
    "\n",
    "X, y = load_otto_db()\n",
    "X_test = load_otto_db(test=True)\n",
    "\n",
    "print(\"Dimensions of datasets :\")\n",
    "print(\" * Training set : {}\".format(X.shape))\n",
    "print(\" * Test set     : {}\".format(X_test.shape))"
   ]
  },
  {
   "cell_type": "markdown",
   "metadata": {},
   "source": [
    "# À propos des paramètres de GridSearchCV\n",
    "\n",
    "cf. http://scikit-learn.org/stable/modules/generated/sklearn.model_selection.GridSearchCV.html\n",
    "conseils sur les valeurs de paramètres:\n",
    "https://www.analyticsvidhya.com/blog/2016/03/complete-guide-parameter-tuning-xgboost-with-codes-python/\n",
    "\n",
    "\n",
    "## REFIT\n",
    "\n",
    "refit : boolean, or string, default=True\n",
    "Refit an estimator using the best found parameters on the whole dataset.\n",
    "\n",
    "For multiple metric evaluation, this needs to be a string denoting the scorer is used to find the best parameters for refitting the estimator at the end.\n",
    "\n",
    "The refitted estimator is made available at the best_estimator_ attribute and permits using predict directly on this GridSearchCV instance.\n",
    "\n",
    "Also for multiple metric evaluation, the attributes best_index_, best_score_ and best_params_ will only be available if refit is set and all of them will be determined w.r.t this specific scorer.\n",
    "\n",
    "## SCORING\n",
    "\n",
    "http://scikit-learn.org/stable/modules/model_evaluation.html#scoring-parameter\n",
    "\n",
    "## Arguments du .fit\n",
    "\n",
    "X : array-like, shape = [n_samples, n_features]\n",
    "Training vector, where n_samples is the number of samples and n_features is the number of features.\n",
    "\n",
    "y : array-like, shape = [n_samples] or [n_samples, n_output], optional\n",
    "Target relative to X for classification or regression; None for unsupervised learning\n",
    "https://pandas.pydata.org/pandas-docs/stable/generated/pandas.DataFrame.values.html#pandas.DataFrame.values\n",
    "\n"
   ]
  },
  {
   "cell_type": "code",
   "execution_count": 58,
   "metadata": {},
   "outputs": [
    {
     "name": "stdout",
     "output_type": "stream",
     "text": [
      "Fitting 3 folds for each of 8 candidates, totalling 24 fits\n",
      "[CV] colsample_bytree=0.7, learning_rate=0.1, max_depth=6, n_estimators=100, nthread=3, objective=binary:logistic, reg_alpha=0, seed=42 \n"
     ]
    },
    {
     "name": "stderr",
     "output_type": "stream",
     "text": [
      "/home/mbauw/anaconda3/lib/python3.7/site-packages/sklearn/preprocessing/label.py:151: DeprecationWarning: The truth value of an empty array is ambiguous. Returning False, but in future this will result in an error. Use `array.size > 0` to check that an array is not empty.\n",
      "  if diff:\n",
      "/home/mbauw/anaconda3/lib/python3.7/site-packages/sklearn/preprocessing/label.py:151: DeprecationWarning: The truth value of an empty array is ambiguous. Returning False, but in future this will result in an error. Use `array.size > 0` to check that an array is not empty.\n",
      "  if diff:\n",
      "[Parallel(n_jobs=1)]: Done   1 out of   1 | elapsed:   51.6s remaining:    0.0s\n"
     ]
    },
    {
     "name": "stdout",
     "output_type": "stream",
     "text": [
      "[CV]  colsample_bytree=0.7, learning_rate=0.1, max_depth=6, n_estimators=100, nthread=3, objective=binary:logistic, reg_alpha=0, seed=42, total=  50.1s\n",
      "[CV] colsample_bytree=0.7, learning_rate=0.1, max_depth=6, n_estimators=100, nthread=3, objective=binary:logistic, reg_alpha=0, seed=42 \n"
     ]
    },
    {
     "name": "stderr",
     "output_type": "stream",
     "text": [
      "/home/mbauw/anaconda3/lib/python3.7/site-packages/sklearn/preprocessing/label.py:151: DeprecationWarning: The truth value of an empty array is ambiguous. Returning False, but in future this will result in an error. Use `array.size > 0` to check that an array is not empty.\n",
      "  if diff:\n",
      "/home/mbauw/anaconda3/lib/python3.7/site-packages/sklearn/preprocessing/label.py:151: DeprecationWarning: The truth value of an empty array is ambiguous. Returning False, but in future this will result in an error. Use `array.size > 0` to check that an array is not empty.\n",
      "  if diff:\n"
     ]
    },
    {
     "name": "stdout",
     "output_type": "stream",
     "text": [
      "[CV]  colsample_bytree=0.7, learning_rate=0.1, max_depth=6, n_estimators=100, nthread=3, objective=binary:logistic, reg_alpha=0, seed=42, total=  51.4s\n",
      "[CV] colsample_bytree=0.7, learning_rate=0.1, max_depth=6, n_estimators=100, nthread=3, objective=binary:logistic, reg_alpha=0, seed=42 \n"
     ]
    },
    {
     "name": "stderr",
     "output_type": "stream",
     "text": [
      "/home/mbauw/anaconda3/lib/python3.7/site-packages/sklearn/preprocessing/label.py:151: DeprecationWarning: The truth value of an empty array is ambiguous. Returning False, but in future this will result in an error. Use `array.size > 0` to check that an array is not empty.\n",
      "  if diff:\n",
      "/home/mbauw/anaconda3/lib/python3.7/site-packages/sklearn/preprocessing/label.py:151: DeprecationWarning: The truth value of an empty array is ambiguous. Returning False, but in future this will result in an error. Use `array.size > 0` to check that an array is not empty.\n",
      "  if diff:\n"
     ]
    },
    {
     "name": "stdout",
     "output_type": "stream",
     "text": [
      "[CV]  colsample_bytree=0.7, learning_rate=0.1, max_depth=6, n_estimators=100, nthread=3, objective=binary:logistic, reg_alpha=0, seed=42, total=  46.6s\n",
      "[CV] colsample_bytree=0.7, learning_rate=0.1, max_depth=6, n_estimators=100, nthread=3, objective=binary:logistic, reg_alpha=1, seed=42 \n"
     ]
    },
    {
     "name": "stderr",
     "output_type": "stream",
     "text": [
      "/home/mbauw/anaconda3/lib/python3.7/site-packages/sklearn/preprocessing/label.py:151: DeprecationWarning: The truth value of an empty array is ambiguous. Returning False, but in future this will result in an error. Use `array.size > 0` to check that an array is not empty.\n",
      "  if diff:\n",
      "/home/mbauw/anaconda3/lib/python3.7/site-packages/sklearn/preprocessing/label.py:151: DeprecationWarning: The truth value of an empty array is ambiguous. Returning False, but in future this will result in an error. Use `array.size > 0` to check that an array is not empty.\n",
      "  if diff:\n"
     ]
    },
    {
     "name": "stdout",
     "output_type": "stream",
     "text": [
      "[CV]  colsample_bytree=0.7, learning_rate=0.1, max_depth=6, n_estimators=100, nthread=3, objective=binary:logistic, reg_alpha=1, seed=42, total=  41.1s\n",
      "[CV] colsample_bytree=0.7, learning_rate=0.1, max_depth=6, n_estimators=100, nthread=3, objective=binary:logistic, reg_alpha=1, seed=42 \n"
     ]
    },
    {
     "name": "stderr",
     "output_type": "stream",
     "text": [
      "/home/mbauw/anaconda3/lib/python3.7/site-packages/sklearn/preprocessing/label.py:151: DeprecationWarning: The truth value of an empty array is ambiguous. Returning False, but in future this will result in an error. Use `array.size > 0` to check that an array is not empty.\n",
      "  if diff:\n",
      "/home/mbauw/anaconda3/lib/python3.7/site-packages/sklearn/preprocessing/label.py:151: DeprecationWarning: The truth value of an empty array is ambiguous. Returning False, but in future this will result in an error. Use `array.size > 0` to check that an array is not empty.\n",
      "  if diff:\n"
     ]
    },
    {
     "name": "stdout",
     "output_type": "stream",
     "text": [
      "[CV]  colsample_bytree=0.7, learning_rate=0.1, max_depth=6, n_estimators=100, nthread=3, objective=binary:logistic, reg_alpha=1, seed=42, total=  43.1s\n",
      "[CV] colsample_bytree=0.7, learning_rate=0.1, max_depth=6, n_estimators=100, nthread=3, objective=binary:logistic, reg_alpha=1, seed=42 \n"
     ]
    },
    {
     "name": "stderr",
     "output_type": "stream",
     "text": [
      "/home/mbauw/anaconda3/lib/python3.7/site-packages/sklearn/preprocessing/label.py:151: DeprecationWarning: The truth value of an empty array is ambiguous. Returning False, but in future this will result in an error. Use `array.size > 0` to check that an array is not empty.\n",
      "  if diff:\n",
      "/home/mbauw/anaconda3/lib/python3.7/site-packages/sklearn/preprocessing/label.py:151: DeprecationWarning: The truth value of an empty array is ambiguous. Returning False, but in future this will result in an error. Use `array.size > 0` to check that an array is not empty.\n",
      "  if diff:\n"
     ]
    },
    {
     "name": "stdout",
     "output_type": "stream",
     "text": [
      "[CV]  colsample_bytree=0.7, learning_rate=0.1, max_depth=6, n_estimators=100, nthread=3, objective=binary:logistic, reg_alpha=1, seed=42, total=  47.5s\n",
      "[CV] colsample_bytree=0.7, learning_rate=0.1, max_depth=7, n_estimators=100, nthread=3, objective=binary:logistic, reg_alpha=0, seed=42 \n"
     ]
    },
    {
     "name": "stderr",
     "output_type": "stream",
     "text": [
      "/home/mbauw/anaconda3/lib/python3.7/site-packages/sklearn/preprocessing/label.py:151: DeprecationWarning: The truth value of an empty array is ambiguous. Returning False, but in future this will result in an error. Use `array.size > 0` to check that an array is not empty.\n",
      "  if diff:\n",
      "/home/mbauw/anaconda3/lib/python3.7/site-packages/sklearn/preprocessing/label.py:151: DeprecationWarning: The truth value of an empty array is ambiguous. Returning False, but in future this will result in an error. Use `array.size > 0` to check that an array is not empty.\n",
      "  if diff:\n"
     ]
    },
    {
     "name": "stdout",
     "output_type": "stream",
     "text": [
      "[CV]  colsample_bytree=0.7, learning_rate=0.1, max_depth=7, n_estimators=100, nthread=3, objective=binary:logistic, reg_alpha=0, seed=42, total=  55.6s\n",
      "[CV] colsample_bytree=0.7, learning_rate=0.1, max_depth=7, n_estimators=100, nthread=3, objective=binary:logistic, reg_alpha=0, seed=42 \n"
     ]
    },
    {
     "name": "stderr",
     "output_type": "stream",
     "text": [
      "/home/mbauw/anaconda3/lib/python3.7/site-packages/sklearn/preprocessing/label.py:151: DeprecationWarning: The truth value of an empty array is ambiguous. Returning False, but in future this will result in an error. Use `array.size > 0` to check that an array is not empty.\n",
      "  if diff:\n",
      "/home/mbauw/anaconda3/lib/python3.7/site-packages/sklearn/preprocessing/label.py:151: DeprecationWarning: The truth value of an empty array is ambiguous. Returning False, but in future this will result in an error. Use `array.size > 0` to check that an array is not empty.\n",
      "  if diff:\n"
     ]
    },
    {
     "name": "stdout",
     "output_type": "stream",
     "text": [
      "[CV]  colsample_bytree=0.7, learning_rate=0.1, max_depth=7, n_estimators=100, nthread=3, objective=binary:logistic, reg_alpha=0, seed=42, total=  54.2s\n",
      "[CV] colsample_bytree=0.7, learning_rate=0.1, max_depth=7, n_estimators=100, nthread=3, objective=binary:logistic, reg_alpha=0, seed=42 \n"
     ]
    },
    {
     "name": "stderr",
     "output_type": "stream",
     "text": [
      "/home/mbauw/anaconda3/lib/python3.7/site-packages/sklearn/preprocessing/label.py:151: DeprecationWarning: The truth value of an empty array is ambiguous. Returning False, but in future this will result in an error. Use `array.size > 0` to check that an array is not empty.\n",
      "  if diff:\n",
      "/home/mbauw/anaconda3/lib/python3.7/site-packages/sklearn/preprocessing/label.py:151: DeprecationWarning: The truth value of an empty array is ambiguous. Returning False, but in future this will result in an error. Use `array.size > 0` to check that an array is not empty.\n",
      "  if diff:\n"
     ]
    },
    {
     "name": "stdout",
     "output_type": "stream",
     "text": [
      "[CV]  colsample_bytree=0.7, learning_rate=0.1, max_depth=7, n_estimators=100, nthread=3, objective=binary:logistic, reg_alpha=0, seed=42, total=  52.9s\n",
      "[CV] colsample_bytree=0.7, learning_rate=0.1, max_depth=7, n_estimators=100, nthread=3, objective=binary:logistic, reg_alpha=1, seed=42 \n"
     ]
    },
    {
     "name": "stderr",
     "output_type": "stream",
     "text": [
      "/home/mbauw/anaconda3/lib/python3.7/site-packages/sklearn/preprocessing/label.py:151: DeprecationWarning: The truth value of an empty array is ambiguous. Returning False, but in future this will result in an error. Use `array.size > 0` to check that an array is not empty.\n",
      "  if diff:\n",
      "/home/mbauw/anaconda3/lib/python3.7/site-packages/sklearn/preprocessing/label.py:151: DeprecationWarning: The truth value of an empty array is ambiguous. Returning False, but in future this will result in an error. Use `array.size > 0` to check that an array is not empty.\n",
      "  if diff:\n"
     ]
    },
    {
     "name": "stdout",
     "output_type": "stream",
     "text": [
      "[CV]  colsample_bytree=0.7, learning_rate=0.1, max_depth=7, n_estimators=100, nthread=3, objective=binary:logistic, reg_alpha=1, seed=42, total=  56.4s\n",
      "[CV] colsample_bytree=0.7, learning_rate=0.1, max_depth=7, n_estimators=100, nthread=3, objective=binary:logistic, reg_alpha=1, seed=42 \n"
     ]
    },
    {
     "name": "stderr",
     "output_type": "stream",
     "text": [
      "/home/mbauw/anaconda3/lib/python3.7/site-packages/sklearn/preprocessing/label.py:151: DeprecationWarning: The truth value of an empty array is ambiguous. Returning False, but in future this will result in an error. Use `array.size > 0` to check that an array is not empty.\n",
      "  if diff:\n",
      "/home/mbauw/anaconda3/lib/python3.7/site-packages/sklearn/preprocessing/label.py:151: DeprecationWarning: The truth value of an empty array is ambiguous. Returning False, but in future this will result in an error. Use `array.size > 0` to check that an array is not empty.\n",
      "  if diff:\n"
     ]
    },
    {
     "name": "stdout",
     "output_type": "stream",
     "text": [
      "[CV]  colsample_bytree=0.7, learning_rate=0.1, max_depth=7, n_estimators=100, nthread=3, objective=binary:logistic, reg_alpha=1, seed=42, total=  50.6s\n",
      "[CV] colsample_bytree=0.7, learning_rate=0.1, max_depth=7, n_estimators=100, nthread=3, objective=binary:logistic, reg_alpha=1, seed=42 \n"
     ]
    },
    {
     "name": "stderr",
     "output_type": "stream",
     "text": [
      "/home/mbauw/anaconda3/lib/python3.7/site-packages/sklearn/preprocessing/label.py:151: DeprecationWarning: The truth value of an empty array is ambiguous. Returning False, but in future this will result in an error. Use `array.size > 0` to check that an array is not empty.\n",
      "  if diff:\n",
      "/home/mbauw/anaconda3/lib/python3.7/site-packages/sklearn/preprocessing/label.py:151: DeprecationWarning: The truth value of an empty array is ambiguous. Returning False, but in future this will result in an error. Use `array.size > 0` to check that an array is not empty.\n",
      "  if diff:\n"
     ]
    },
    {
     "name": "stdout",
     "output_type": "stream",
     "text": [
      "[CV]  colsample_bytree=0.7, learning_rate=0.1, max_depth=7, n_estimators=100, nthread=3, objective=binary:logistic, reg_alpha=1, seed=42, total=  49.9s\n",
      "[CV] colsample_bytree=0.8, learning_rate=0.1, max_depth=6, n_estimators=100, nthread=3, objective=binary:logistic, reg_alpha=0, seed=42 \n"
     ]
    },
    {
     "name": "stderr",
     "output_type": "stream",
     "text": [
      "/home/mbauw/anaconda3/lib/python3.7/site-packages/sklearn/preprocessing/label.py:151: DeprecationWarning: The truth value of an empty array is ambiguous. Returning False, but in future this will result in an error. Use `array.size > 0` to check that an array is not empty.\n",
      "  if diff:\n",
      "/home/mbauw/anaconda3/lib/python3.7/site-packages/sklearn/preprocessing/label.py:151: DeprecationWarning: The truth value of an empty array is ambiguous. Returning False, but in future this will result in an error. Use `array.size > 0` to check that an array is not empty.\n",
      "  if diff:\n"
     ]
    },
    {
     "name": "stdout",
     "output_type": "stream",
     "text": [
      "[CV]  colsample_bytree=0.8, learning_rate=0.1, max_depth=6, n_estimators=100, nthread=3, objective=binary:logistic, reg_alpha=0, seed=42, total=  47.5s\n",
      "[CV] colsample_bytree=0.8, learning_rate=0.1, max_depth=6, n_estimators=100, nthread=3, objective=binary:logistic, reg_alpha=0, seed=42 \n"
     ]
    },
    {
     "name": "stderr",
     "output_type": "stream",
     "text": [
      "/home/mbauw/anaconda3/lib/python3.7/site-packages/sklearn/preprocessing/label.py:151: DeprecationWarning: The truth value of an empty array is ambiguous. Returning False, but in future this will result in an error. Use `array.size > 0` to check that an array is not empty.\n",
      "  if diff:\n",
      "/home/mbauw/anaconda3/lib/python3.7/site-packages/sklearn/preprocessing/label.py:151: DeprecationWarning: The truth value of an empty array is ambiguous. Returning False, but in future this will result in an error. Use `array.size > 0` to check that an array is not empty.\n",
      "  if diff:\n"
     ]
    },
    {
     "name": "stdout",
     "output_type": "stream",
     "text": [
      "[CV]  colsample_bytree=0.8, learning_rate=0.1, max_depth=6, n_estimators=100, nthread=3, objective=binary:logistic, reg_alpha=0, seed=42, total=  47.6s\n",
      "[CV] colsample_bytree=0.8, learning_rate=0.1, max_depth=6, n_estimators=100, nthread=3, objective=binary:logistic, reg_alpha=0, seed=42 \n"
     ]
    },
    {
     "name": "stderr",
     "output_type": "stream",
     "text": [
      "/home/mbauw/anaconda3/lib/python3.7/site-packages/sklearn/preprocessing/label.py:151: DeprecationWarning: The truth value of an empty array is ambiguous. Returning False, but in future this will result in an error. Use `array.size > 0` to check that an array is not empty.\n",
      "  if diff:\n",
      "/home/mbauw/anaconda3/lib/python3.7/site-packages/sklearn/preprocessing/label.py:151: DeprecationWarning: The truth value of an empty array is ambiguous. Returning False, but in future this will result in an error. Use `array.size > 0` to check that an array is not empty.\n",
      "  if diff:\n"
     ]
    },
    {
     "name": "stdout",
     "output_type": "stream",
     "text": [
      "[CV]  colsample_bytree=0.8, learning_rate=0.1, max_depth=6, n_estimators=100, nthread=3, objective=binary:logistic, reg_alpha=0, seed=42, total=  50.7s\n",
      "[CV] colsample_bytree=0.8, learning_rate=0.1, max_depth=6, n_estimators=100, nthread=3, objective=binary:logistic, reg_alpha=1, seed=42 \n"
     ]
    },
    {
     "name": "stderr",
     "output_type": "stream",
     "text": [
      "/home/mbauw/anaconda3/lib/python3.7/site-packages/sklearn/preprocessing/label.py:151: DeprecationWarning: The truth value of an empty array is ambiguous. Returning False, but in future this will result in an error. Use `array.size > 0` to check that an array is not empty.\n",
      "  if diff:\n",
      "/home/mbauw/anaconda3/lib/python3.7/site-packages/sklearn/preprocessing/label.py:151: DeprecationWarning: The truth value of an empty array is ambiguous. Returning False, but in future this will result in an error. Use `array.size > 0` to check that an array is not empty.\n",
      "  if diff:\n"
     ]
    },
    {
     "name": "stdout",
     "output_type": "stream",
     "text": [
      "[CV]  colsample_bytree=0.8, learning_rate=0.1, max_depth=6, n_estimators=100, nthread=3, objective=binary:logistic, reg_alpha=1, seed=42, total=  47.7s\n",
      "[CV] colsample_bytree=0.8, learning_rate=0.1, max_depth=6, n_estimators=100, nthread=3, objective=binary:logistic, reg_alpha=1, seed=42 \n"
     ]
    },
    {
     "name": "stderr",
     "output_type": "stream",
     "text": [
      "/home/mbauw/anaconda3/lib/python3.7/site-packages/sklearn/preprocessing/label.py:151: DeprecationWarning: The truth value of an empty array is ambiguous. Returning False, but in future this will result in an error. Use `array.size > 0` to check that an array is not empty.\n",
      "  if diff:\n",
      "/home/mbauw/anaconda3/lib/python3.7/site-packages/sklearn/preprocessing/label.py:151: DeprecationWarning: The truth value of an empty array is ambiguous. Returning False, but in future this will result in an error. Use `array.size > 0` to check that an array is not empty.\n",
      "  if diff:\n"
     ]
    },
    {
     "name": "stdout",
     "output_type": "stream",
     "text": [
      "[CV]  colsample_bytree=0.8, learning_rate=0.1, max_depth=6, n_estimators=100, nthread=3, objective=binary:logistic, reg_alpha=1, seed=42, total=  48.8s\n",
      "[CV] colsample_bytree=0.8, learning_rate=0.1, max_depth=6, n_estimators=100, nthread=3, objective=binary:logistic, reg_alpha=1, seed=42 \n"
     ]
    },
    {
     "name": "stderr",
     "output_type": "stream",
     "text": [
      "/home/mbauw/anaconda3/lib/python3.7/site-packages/sklearn/preprocessing/label.py:151: DeprecationWarning: The truth value of an empty array is ambiguous. Returning False, but in future this will result in an error. Use `array.size > 0` to check that an array is not empty.\n",
      "  if diff:\n",
      "/home/mbauw/anaconda3/lib/python3.7/site-packages/sklearn/preprocessing/label.py:151: DeprecationWarning: The truth value of an empty array is ambiguous. Returning False, but in future this will result in an error. Use `array.size > 0` to check that an array is not empty.\n",
      "  if diff:\n"
     ]
    },
    {
     "name": "stdout",
     "output_type": "stream",
     "text": [
      "[CV]  colsample_bytree=0.8, learning_rate=0.1, max_depth=6, n_estimators=100, nthread=3, objective=binary:logistic, reg_alpha=1, seed=42, total=  49.9s\n",
      "[CV] colsample_bytree=0.8, learning_rate=0.1, max_depth=7, n_estimators=100, nthread=3, objective=binary:logistic, reg_alpha=0, seed=42 \n"
     ]
    },
    {
     "name": "stderr",
     "output_type": "stream",
     "text": [
      "/home/mbauw/anaconda3/lib/python3.7/site-packages/sklearn/preprocessing/label.py:151: DeprecationWarning: The truth value of an empty array is ambiguous. Returning False, but in future this will result in an error. Use `array.size > 0` to check that an array is not empty.\n",
      "  if diff:\n",
      "/home/mbauw/anaconda3/lib/python3.7/site-packages/sklearn/preprocessing/label.py:151: DeprecationWarning: The truth value of an empty array is ambiguous. Returning False, but in future this will result in an error. Use `array.size > 0` to check that an array is not empty.\n",
      "  if diff:\n"
     ]
    },
    {
     "name": "stdout",
     "output_type": "stream",
     "text": [
      "[CV]  colsample_bytree=0.8, learning_rate=0.1, max_depth=7, n_estimators=100, nthread=3, objective=binary:logistic, reg_alpha=0, seed=42, total= 1.0min\n",
      "[CV] colsample_bytree=0.8, learning_rate=0.1, max_depth=7, n_estimators=100, nthread=3, objective=binary:logistic, reg_alpha=0, seed=42 \n"
     ]
    },
    {
     "name": "stderr",
     "output_type": "stream",
     "text": [
      "/home/mbauw/anaconda3/lib/python3.7/site-packages/sklearn/preprocessing/label.py:151: DeprecationWarning: The truth value of an empty array is ambiguous. Returning False, but in future this will result in an error. Use `array.size > 0` to check that an array is not empty.\n",
      "  if diff:\n",
      "/home/mbauw/anaconda3/lib/python3.7/site-packages/sklearn/preprocessing/label.py:151: DeprecationWarning: The truth value of an empty array is ambiguous. Returning False, but in future this will result in an error. Use `array.size > 0` to check that an array is not empty.\n",
      "  if diff:\n"
     ]
    },
    {
     "name": "stdout",
     "output_type": "stream",
     "text": [
      "[CV]  colsample_bytree=0.8, learning_rate=0.1, max_depth=7, n_estimators=100, nthread=3, objective=binary:logistic, reg_alpha=0, seed=42, total= 1.0min\n",
      "[CV] colsample_bytree=0.8, learning_rate=0.1, max_depth=7, n_estimators=100, nthread=3, objective=binary:logistic, reg_alpha=0, seed=42 \n"
     ]
    },
    {
     "name": "stderr",
     "output_type": "stream",
     "text": [
      "/home/mbauw/anaconda3/lib/python3.7/site-packages/sklearn/preprocessing/label.py:151: DeprecationWarning: The truth value of an empty array is ambiguous. Returning False, but in future this will result in an error. Use `array.size > 0` to check that an array is not empty.\n",
      "  if diff:\n",
      "/home/mbauw/anaconda3/lib/python3.7/site-packages/sklearn/preprocessing/label.py:151: DeprecationWarning: The truth value of an empty array is ambiguous. Returning False, but in future this will result in an error. Use `array.size > 0` to check that an array is not empty.\n",
      "  if diff:\n"
     ]
    },
    {
     "name": "stdout",
     "output_type": "stream",
     "text": [
      "[CV]  colsample_bytree=0.8, learning_rate=0.1, max_depth=7, n_estimators=100, nthread=3, objective=binary:logistic, reg_alpha=0, seed=42, total=  57.7s\n",
      "[CV] colsample_bytree=0.8, learning_rate=0.1, max_depth=7, n_estimators=100, nthread=3, objective=binary:logistic, reg_alpha=1, seed=42 \n"
     ]
    },
    {
     "name": "stderr",
     "output_type": "stream",
     "text": [
      "/home/mbauw/anaconda3/lib/python3.7/site-packages/sklearn/preprocessing/label.py:151: DeprecationWarning: The truth value of an empty array is ambiguous. Returning False, but in future this will result in an error. Use `array.size > 0` to check that an array is not empty.\n",
      "  if diff:\n",
      "/home/mbauw/anaconda3/lib/python3.7/site-packages/sklearn/preprocessing/label.py:151: DeprecationWarning: The truth value of an empty array is ambiguous. Returning False, but in future this will result in an error. Use `array.size > 0` to check that an array is not empty.\n",
      "  if diff:\n"
     ]
    },
    {
     "name": "stdout",
     "output_type": "stream",
     "text": [
      "[CV]  colsample_bytree=0.8, learning_rate=0.1, max_depth=7, n_estimators=100, nthread=3, objective=binary:logistic, reg_alpha=1, seed=42, total=  58.0s\n",
      "[CV] colsample_bytree=0.8, learning_rate=0.1, max_depth=7, n_estimators=100, nthread=3, objective=binary:logistic, reg_alpha=1, seed=42 \n"
     ]
    },
    {
     "name": "stderr",
     "output_type": "stream",
     "text": [
      "/home/mbauw/anaconda3/lib/python3.7/site-packages/sklearn/preprocessing/label.py:151: DeprecationWarning: The truth value of an empty array is ambiguous. Returning False, but in future this will result in an error. Use `array.size > 0` to check that an array is not empty.\n",
      "  if diff:\n",
      "/home/mbauw/anaconda3/lib/python3.7/site-packages/sklearn/preprocessing/label.py:151: DeprecationWarning: The truth value of an empty array is ambiguous. Returning False, but in future this will result in an error. Use `array.size > 0` to check that an array is not empty.\n",
      "  if diff:\n"
     ]
    },
    {
     "name": "stdout",
     "output_type": "stream",
     "text": [
      "[CV]  colsample_bytree=0.8, learning_rate=0.1, max_depth=7, n_estimators=100, nthread=3, objective=binary:logistic, reg_alpha=1, seed=42, total=  57.3s\n",
      "[CV] colsample_bytree=0.8, learning_rate=0.1, max_depth=7, n_estimators=100, nthread=3, objective=binary:logistic, reg_alpha=1, seed=42 \n"
     ]
    },
    {
     "name": "stderr",
     "output_type": "stream",
     "text": [
      "/home/mbauw/anaconda3/lib/python3.7/site-packages/sklearn/preprocessing/label.py:151: DeprecationWarning: The truth value of an empty array is ambiguous. Returning False, but in future this will result in an error. Use `array.size > 0` to check that an array is not empty.\n",
      "  if diff:\n",
      "/home/mbauw/anaconda3/lib/python3.7/site-packages/sklearn/preprocessing/label.py:151: DeprecationWarning: The truth value of an empty array is ambiguous. Returning False, but in future this will result in an error. Use `array.size > 0` to check that an array is not empty.\n",
      "  if diff:\n",
      "[Parallel(n_jobs=1)]: Done  24 out of  24 | elapsed: 21.4min finished\n"
     ]
    },
    {
     "name": "stdout",
     "output_type": "stream",
     "text": [
      "[CV]  colsample_bytree=0.8, learning_rate=0.1, max_depth=7, n_estimators=100, nthread=3, objective=binary:logistic, reg_alpha=1, seed=42, total= 1.0min\n"
     ]
    },
    {
     "data": {
      "text/plain": [
       "GridSearchCV(cv=None, error_score='raise',\n",
       "       estimator=XGBClassifier(base_score=0.5, booster='gbtree', colsample_bylevel=1,\n",
       "       colsample_bytree=1, gamma=0, learning_rate=0.1, max_delta_step=0,\n",
       "       max_depth=3, min_child_weight=1, missing=None, n_estimators=100,\n",
       "       n_jobs=1, nthread=None, objective='binary:logistic', random_state=0,\n",
       "       reg_alpha=0, reg_lambda=1, scale_pos_weight=1, seed=None,\n",
       "       silent=True, subsample=1),\n",
       "       fit_params=None, iid=True, n_jobs=1,\n",
       "       param_grid={'objective': ['binary:logistic'], 'colsample_bytree': [0.7, 0.8], 'learning_rate': [0.1], 'max_depth': [6, 7], 'reg_alpha': [0, 1], 'n_estimators': [100], 'seed': [42], 'nthread': [3]},\n",
       "       pre_dispatch='2*n_jobs', refit='f1_micro',\n",
       "       return_train_score='warn', scoring=['f1_micro'], verbose=2)"
      ]
     },
     "execution_count": 58,
     "metadata": {},
     "output_type": "execute_result"
    }
   ],
   "source": [
    "########################################################\n",
    "# GridSearchCV on part of the possible hyperparameters #\n",
    "########################################################\n",
    "\n",
    "xgb_classifier = xgb.XGBClassifier()\n",
    "\n",
    "parameters = {'objective':['binary:logistic'],             \n",
    "              'colsample_bytree':[0.7,0.8],\n",
    "              'learning_rate':[0.1],\n",
    "              'max_depth':[6,7],\n",
    "              'reg_alpha':[0,1],\n",
    "              'n_estimators':[100],\n",
    "              'seed':[42],\n",
    "              'nthread':[3]}\n",
    "\n",
    "classifier = GridSearchCV(xgb_classifier,parameters,verbose=2,scoring=[\"f1_micro\"],refit=\"f1_micro\")\n",
    "classifier.fit(train_data.values,train_target.values)\n",
    "\n"
   ]
  },
  {
   "cell_type": "code",
   "execution_count": 59,
   "metadata": {},
   "outputs": [
    {
     "name": "stdout",
     "output_type": "stream",
     "text": [
      "{'mean_fit_time': array([48.66813842, 43.1030453 , 53.37022376, 51.55575633, 47.89064384,\n",
      "       48.12619964, 59.0987548 , 57.74895509]), 'std_fit_time': array([1.96680831, 2.41839675, 1.11242501, 2.88368862, 1.52388324,\n",
      "       0.87303203, 1.62124953, 1.29275567]), 'mean_score_time': array([0.70203853, 0.78348168, 0.86054254, 0.72516171, 0.71443971,\n",
      "       0.66306027, 0.83948143, 0.81822673]), 'std_score_time': array([0.05610122, 0.25534853, 0.06305433, 0.02192686, 0.10159239,\n",
      "       0.02835261, 0.03070512, 0.04029015]), 'param_colsample_bytree': masked_array(data=[0.7, 0.7, 0.7, 0.7, 0.8, 0.8, 0.8, 0.8],\n",
      "             mask=[False, False, False, False, False, False, False, False],\n",
      "       fill_value='?',\n",
      "            dtype=object), 'param_learning_rate': masked_array(data=[0.1, 0.1, 0.1, 0.1, 0.1, 0.1, 0.1, 0.1],\n",
      "             mask=[False, False, False, False, False, False, False, False],\n",
      "       fill_value='?',\n",
      "            dtype=object), 'param_max_depth': masked_array(data=[6, 6, 7, 7, 6, 6, 7, 7],\n",
      "             mask=[False, False, False, False, False, False, False, False],\n",
      "       fill_value='?',\n",
      "            dtype=object), 'param_n_estimators': masked_array(data=[100, 100, 100, 100, 100, 100, 100, 100],\n",
      "             mask=[False, False, False, False, False, False, False, False],\n",
      "       fill_value='?',\n",
      "            dtype=object), 'param_nthread': masked_array(data=[3, 3, 3, 3, 3, 3, 3, 3],\n",
      "             mask=[False, False, False, False, False, False, False, False],\n",
      "       fill_value='?',\n",
      "            dtype=object), 'param_objective': masked_array(data=['binary:logistic', 'binary:logistic',\n",
      "                   'binary:logistic', 'binary:logistic',\n",
      "                   'binary:logistic', 'binary:logistic',\n",
      "                   'binary:logistic', 'binary:logistic'],\n",
      "             mask=[False, False, False, False, False, False, False, False],\n",
      "       fill_value='?',\n",
      "            dtype=object), 'param_reg_alpha': masked_array(data=[0, 1, 0, 1, 0, 1, 0, 1],\n",
      "             mask=[False, False, False, False, False, False, False, False],\n",
      "       fill_value='?',\n",
      "            dtype=object), 'param_seed': masked_array(data=[42, 42, 42, 42, 42, 42, 42, 42],\n",
      "             mask=[False, False, False, False, False, False, False, False],\n",
      "       fill_value='?',\n",
      "            dtype=object), 'params': [{'colsample_bytree': 0.7, 'learning_rate': 0.1, 'max_depth': 6, 'n_estimators': 100, 'nthread': 3, 'objective': 'binary:logistic', 'reg_alpha': 0, 'seed': 42}, {'colsample_bytree': 0.7, 'learning_rate': 0.1, 'max_depth': 6, 'n_estimators': 100, 'nthread': 3, 'objective': 'binary:logistic', 'reg_alpha': 1, 'seed': 42}, {'colsample_bytree': 0.7, 'learning_rate': 0.1, 'max_depth': 7, 'n_estimators': 100, 'nthread': 3, 'objective': 'binary:logistic', 'reg_alpha': 0, 'seed': 42}, {'colsample_bytree': 0.7, 'learning_rate': 0.1, 'max_depth': 7, 'n_estimators': 100, 'nthread': 3, 'objective': 'binary:logistic', 'reg_alpha': 1, 'seed': 42}, {'colsample_bytree': 0.8, 'learning_rate': 0.1, 'max_depth': 6, 'n_estimators': 100, 'nthread': 3, 'objective': 'binary:logistic', 'reg_alpha': 0, 'seed': 42}, {'colsample_bytree': 0.8, 'learning_rate': 0.1, 'max_depth': 6, 'n_estimators': 100, 'nthread': 3, 'objective': 'binary:logistic', 'reg_alpha': 1, 'seed': 42}, {'colsample_bytree': 0.8, 'learning_rate': 0.1, 'max_depth': 7, 'n_estimators': 100, 'nthread': 3, 'objective': 'binary:logistic', 'reg_alpha': 0, 'seed': 42}, {'colsample_bytree': 0.8, 'learning_rate': 0.1, 'max_depth': 7, 'n_estimators': 100, 'nthread': 3, 'objective': 'binary:logistic', 'reg_alpha': 1, 'seed': 42}], 'split0_test_f1_micro': array([0.79697499, 0.79779911, 0.80361644, 0.80381035, 0.79910801,\n",
      "       0.79881714, 0.80390731, 0.80468296]), 'split1_test_f1_micro': array([0.7980704 , 0.79758557, 0.801949  , 0.80117328, 0.79719771,\n",
      "       0.79870067, 0.80282168, 0.80185203]), 'split2_test_f1_micro': array([0.7999903 , 0.80028123, 0.80609969, 0.80508146, 0.7996024 ,\n",
      "       0.80003879, 0.80609969, 0.80629364]), 'mean_test_f1_micro': array([0.79834513, 0.79855522, 0.8038883 , 0.80335499, 0.79863603,\n",
      "       0.79918549, 0.80427616, 0.80427616]), 'std_test_f1_micro': array([0.00124623, 0.00122349, 0.00170534, 0.00162764, 0.00103688,\n",
      "       0.0006052 , 0.00136339, 0.00183591]), 'rank_test_f1_micro': array([8, 7, 3, 4, 6, 5, 1, 1], dtype=int32), 'split0_train_f1_micro': array([0.84870303, 0.84344242, 0.87202424, 0.86620606, 0.84986667,\n",
      "       0.84625455, 0.87326061, 0.86669091]), 'split1_train_f1_micro': array([0.84730437, 0.84284398, 0.87084263, 0.86366722, 0.84674682,\n",
      "       0.84364394, 0.8706487 , 0.86553379]), 'split2_train_f1_micro': array([0.84719058, 0.84137296, 0.8697096 , 0.86280118, 0.84665729,\n",
      "       0.84222136, 0.87000048, 0.86294662]), 'mean_train_f1_micro': array([0.84773266, 0.84255312, 0.87085882, 0.86422482, 0.84775693,\n",
      "       0.84403995, 0.87130326, 0.86505711]), 'std_train_f1_micro': array([0.00068773, 0.00086953, 0.00094502, 0.00144487, 0.00149226,\n",
      "       0.00167018, 0.00140912, 0.00156532])}\n"
     ]
    },
    {
     "data": {
      "text/plain": [
       "{'colsample_bytree': 0.8,\n",
       " 'learning_rate': 0.1,\n",
       " 'max_depth': 7,\n",
       " 'n_estimators': 100,\n",
       " 'nthread': 3,\n",
       " 'objective': 'binary:logistic',\n",
       " 'reg_alpha': 0,\n",
       " 'seed': 42}"
      ]
     },
     "execution_count": 59,
     "metadata": {},
     "output_type": "execute_result"
    }
   ],
   "source": [
    "################################\n",
    "# Show results of GridSearchCV #\n",
    "################################\n",
    "\n",
    "print(classifier.cv_results_)\n",
    "classifier.best_params_"
   ]
  },
  {
   "cell_type": "markdown",
   "metadata": {},
   "source": [
    "# Now run with best parameters found thanks to GridSearchCV"
   ]
  },
  {
   "cell_type": "code",
   "execution_count": 60,
   "metadata": {},
   "outputs": [],
   "source": [
    "classifier.best_params_['seed']\n",
    "\n",
    "# regarding python kwards to forward best parameters check url below\n",
    "# https://stackoverflow.com/questions/41475539/using-best-params-from-gridsearchcv\n",
    "xgb_best_classifier = xgb.XGBClassifier(**classifier.best_params_)\n",
    "\n",
    "xgb_best_classifier.fit(train_data,train_target)\n",
    "preds = xgb_best_classifier.predict_proba(test_data)"
   ]
  },
  {
   "cell_type": "code",
   "execution_count": 61,
   "metadata": {},
   "outputs": [],
   "source": [
    "#####################################################\n",
    "# CREATING .CSV RESPECTING KAGGLE SUBMISSION FORMAT #\n",
    "#####################################################\n",
    "\n",
    "preds = pd.DataFrame(preds)\n",
    "namesRow = [\"Class_1\",\"Class_2\",\"Class_3\",\"Class_4\",\"Class_5\",\"Class_6\",\"Class_7\",\"Class_8\",\"Class_9\"]\n",
    "preds.columns = namesRow\n",
    "preds.head()\n",
    "\n",
    "preds.index +=1\n",
    "preds.to_csv(\"results_grid_xgboost.csv\", encoding='utf-8',index=True,index_label=\"id\")"
   ]
  },
  {
   "cell_type": "code",
   "execution_count": null,
   "metadata": {},
   "outputs": [],
   "source": []
  }
 ],
 "metadata": {
  "kernelspec": {
   "display_name": "Python 3",
   "language": "python",
   "name": "python3"
  },
  "language_info": {
   "codemirror_mode": {
    "name": "ipython",
    "version": 3
   },
   "file_extension": ".py",
   "mimetype": "text/x-python",
   "name": "python",
   "nbconvert_exporter": "python",
   "pygments_lexer": "ipython3",
   "version": "3.7.0"
  }
 },
 "nbformat": 4,
 "nbformat_minor": 2
}

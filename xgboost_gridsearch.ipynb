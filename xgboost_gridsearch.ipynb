{
 "cells": [
  {
   "cell_type": "code",
   "execution_count": 37,
   "metadata": {},
   "outputs": [
    {
     "name": "stdout",
     "output_type": "stream",
     "text": [
      "The scikit-learn version is 0.19.2.\n"
     ]
    }
   ],
   "source": [
    "import sklearn\n",
    "\n",
    "print('The scikit-learn version is {}.'.format(sklearn.__version__))"
   ]
  },
  {
   "cell_type": "code",
   "execution_count": 40,
   "metadata": {},
   "outputs": [],
   "source": [
    "#!/usr/bin/python3\n",
    "# -*- coding: utf-8 -*-\n",
    "\n",
    "import pandas as pd\n",
    "import xgboost as xgb\n",
    "import numpy as np\n",
    "from sklearn.metrics import mean_squared_error\n",
    "from sklearn.metrics import log_loss\n",
    "from sklearn.model_selection import GridSearchCV\n",
    "from sklearn import preprocessing\n",
    "\n",
    "#random_state = 42\n",
    "\n",
    "########################################\n",
    "# LOADING DATASETS IN PANDA DATAFRAMES #\n",
    "########################################\n",
    "\n",
    "train_csv_path = \"./all/train.csv\"\n",
    "test_csv_path = \"./all/test.csv\"\n",
    "\n",
    "train_df = pd.read_csv(train_csv_path,header=0)\n",
    "test_df = pd.read_csv(test_csv_path,header=0)\n",
    "\n",
    "# split df so that ids are isolated from features\n",
    "# on drop la premiere colonne d'id, qui n'est pas un feature, cf. exemple tuto xgboost\n",
    "train_data, train_target = train_df.iloc[:,1:-1], train_df.iloc[:,-1]\n",
    "# pour TEST pas de classe (test_target) !!!: \n",
    "# on fait juste une prédiction de probabilité qu'on envoie sur Kaggle\n",
    "test_data = test_df.iloc[:,1:]\n",
    "\n",
    "# transformer les string de classe en etiquette int pour train\n",
    "#nbrRows = train_target.shape[0]\n",
    "#for rowIndex in range(nbrRows):\n",
    "#    train_target.at[rowIndex] = int(train_target.at[rowIndex][6])\n",
    "\n",
    "#pd.to_numeric(train_target)"
   ]
  },
  {
   "cell_type": "code",
   "execution_count": 41,
   "metadata": {},
   "outputs": [
    {
     "name": "stdout",
     "output_type": "stream",
     "text": [
      "   feat_1  feat_2  feat_3  feat_4  feat_5  feat_6  feat_7  feat_8  feat_9  \\\n",
      "0       1       0       0       0       0       0       0       0       0   \n",
      "1       0       0       0       0       0       0       0       1       0   \n",
      "2       0       0       0       0       0       0       0       1       0   \n",
      "3       1       0       0       1       6       1       5       0       0   \n",
      "4       0       0       0       0       0       0       0       0       0   \n",
      "\n",
      "   feat_10   ...     feat_84  feat_85  feat_86  feat_87  feat_88  feat_89  \\\n",
      "0        0   ...           0        1        0        0        0        0   \n",
      "1        0   ...           0        0        0        0        0        0   \n",
      "2        0   ...           0        0        0        0        0        0   \n",
      "3        1   ...          22        0        1        2        0        0   \n",
      "4        0   ...           0        1        0        0        0        0   \n",
      "\n",
      "   feat_90  feat_91  feat_92  feat_93  \n",
      "0        0        0        0        0  \n",
      "1        0        0        0        0  \n",
      "2        0        0        0        0  \n",
      "3        0        0        0        0  \n",
      "4        1        0        0        0  \n",
      "\n",
      "[5 rows x 93 columns]\n",
      "0    Class_1\n",
      "1    Class_1\n",
      "2    Class_1\n",
      "3    Class_1\n",
      "4    Class_1\n",
      "Name: target, dtype: object\n",
      "(61878, 93)\n",
      "<class 'numpy.int64'>\n",
      "(61878,)\n",
      "<class 'str'>\n"
     ]
    }
   ],
   "source": [
    "print(train_data.head())\n",
    "print(train_target.head())\n",
    "print(train_data.values.shape)\n",
    "print(type(train_data.values[0][0]))\n",
    "print(train_target.values.shape)\n",
    "print(type(train_target.values[0]))"
   ]
  },
  {
   "cell_type": "markdown",
   "metadata": {},
   "source": [
    "# À propos des paramètres de GridSearchCV\n",
    "\n",
    "cf. http://scikit-learn.org/stable/modules/generated/sklearn.model_selection.GridSearchCV.html\n",
    "conseils sur les valeurs de paramètres:\n",
    "https://www.analyticsvidhya.com/blog/2016/03/complete-guide-parameter-tuning-xgboost-with-codes-python/\n",
    "\n",
    "\n",
    "## REFIT\n",
    "\n",
    "refit : boolean, or string, default=True\n",
    "Refit an estimator using the best found parameters on the whole dataset.\n",
    "\n",
    "For multiple metric evaluation, this needs to be a string denoting the scorer is used to find the best parameters for refitting the estimator at the end.\n",
    "\n",
    "The refitted estimator is made available at the best_estimator_ attribute and permits using predict directly on this GridSearchCV instance.\n",
    "\n",
    "Also for multiple metric evaluation, the attributes best_index_, best_score_ and best_params_ will only be available if refit is set and all of them will be determined w.r.t this specific scorer.\n",
    "\n",
    "## SCORING\n",
    "\n",
    "http://scikit-learn.org/stable/modules/model_evaluation.html#scoring-parameter\n",
    "\n",
    "## Arguments du .fit\n",
    "\n",
    "X : array-like, shape = [n_samples, n_features]\n",
    "Training vector, where n_samples is the number of samples and n_features is the number of features.\n",
    "\n",
    "y : array-like, shape = [n_samples] or [n_samples, n_output], optional\n",
    "Target relative to X for classification or regression; None for unsupervised learning\n",
    "https://pandas.pydata.org/pandas-docs/stable/generated/pandas.DataFrame.values.html#pandas.DataFrame.values\n",
    "\n"
   ]
  },
  {
   "cell_type": "code",
   "execution_count": 51,
   "metadata": {},
   "outputs": [
    {
     "name": "stdout",
     "output_type": "stream",
     "text": [
      "Fitting 3 folds for each of 18 candidates, totalling 54 fits\n",
      "[CV] colsample_bytree=0.4, learning_rate=0.1, max_depth=5, n_estimators=100, nthread=3, objective=binary:logistic, reg_alpha=0, seed=42 \n"
     ]
    },
    {
     "name": "stderr",
     "output_type": "stream",
     "text": [
      "/home/mbauw/anaconda3/lib/python3.7/site-packages/sklearn/preprocessing/label.py:151: DeprecationWarning: The truth value of an empty array is ambiguous. Returning False, but in future this will result in an error. Use `array.size > 0` to check that an array is not empty.\n",
      "  if diff:\n",
      "/home/mbauw/anaconda3/lib/python3.7/site-packages/sklearn/preprocessing/label.py:151: DeprecationWarning: The truth value of an empty array is ambiguous. Returning False, but in future this will result in an error. Use `array.size > 0` to check that an array is not empty.\n",
      "  if diff:\n",
      "[Parallel(n_jobs=1)]: Done   1 out of   1 | elapsed:   23.5s remaining:    0.0s\n"
     ]
    },
    {
     "name": "stdout",
     "output_type": "stream",
     "text": [
      "[CV]  colsample_bytree=0.4, learning_rate=0.1, max_depth=5, n_estimators=100, nthread=3, objective=binary:logistic, reg_alpha=0, seed=42, total=  22.5s\n",
      "[CV] colsample_bytree=0.4, learning_rate=0.1, max_depth=5, n_estimators=100, nthread=3, objective=binary:logistic, reg_alpha=0, seed=42 \n"
     ]
    },
    {
     "name": "stderr",
     "output_type": "stream",
     "text": [
      "/home/mbauw/anaconda3/lib/python3.7/site-packages/sklearn/preprocessing/label.py:151: DeprecationWarning: The truth value of an empty array is ambiguous. Returning False, but in future this will result in an error. Use `array.size > 0` to check that an array is not empty.\n",
      "  if diff:\n",
      "/home/mbauw/anaconda3/lib/python3.7/site-packages/sklearn/preprocessing/label.py:151: DeprecationWarning: The truth value of an empty array is ambiguous. Returning False, but in future this will result in an error. Use `array.size > 0` to check that an array is not empty.\n",
      "  if diff:\n"
     ]
    },
    {
     "name": "stdout",
     "output_type": "stream",
     "text": [
      "[CV]  colsample_bytree=0.4, learning_rate=0.1, max_depth=5, n_estimators=100, nthread=3, objective=binary:logistic, reg_alpha=0, seed=42, total=  22.8s\n",
      "[CV] colsample_bytree=0.4, learning_rate=0.1, max_depth=5, n_estimators=100, nthread=3, objective=binary:logistic, reg_alpha=0, seed=42 \n"
     ]
    },
    {
     "name": "stderr",
     "output_type": "stream",
     "text": [
      "/home/mbauw/anaconda3/lib/python3.7/site-packages/sklearn/preprocessing/label.py:151: DeprecationWarning: The truth value of an empty array is ambiguous. Returning False, but in future this will result in an error. Use `array.size > 0` to check that an array is not empty.\n",
      "  if diff:\n",
      "/home/mbauw/anaconda3/lib/python3.7/site-packages/sklearn/preprocessing/label.py:151: DeprecationWarning: The truth value of an empty array is ambiguous. Returning False, but in future this will result in an error. Use `array.size > 0` to check that an array is not empty.\n",
      "  if diff:\n"
     ]
    },
    {
     "name": "stdout",
     "output_type": "stream",
     "text": [
      "[CV]  colsample_bytree=0.4, learning_rate=0.1, max_depth=5, n_estimators=100, nthread=3, objective=binary:logistic, reg_alpha=0, seed=42, total=  24.9s\n",
      "[CV] colsample_bytree=0.4, learning_rate=0.1, max_depth=5, n_estimators=100, nthread=3, objective=binary:logistic, reg_alpha=1, seed=42 \n"
     ]
    },
    {
     "name": "stderr",
     "output_type": "stream",
     "text": [
      "/home/mbauw/anaconda3/lib/python3.7/site-packages/sklearn/preprocessing/label.py:151: DeprecationWarning: The truth value of an empty array is ambiguous. Returning False, but in future this will result in an error. Use `array.size > 0` to check that an array is not empty.\n",
      "  if diff:\n",
      "/home/mbauw/anaconda3/lib/python3.7/site-packages/sklearn/preprocessing/label.py:151: DeprecationWarning: The truth value of an empty array is ambiguous. Returning False, but in future this will result in an error. Use `array.size > 0` to check that an array is not empty.\n",
      "  if diff:\n"
     ]
    },
    {
     "name": "stdout",
     "output_type": "stream",
     "text": [
      "[CV]  colsample_bytree=0.4, learning_rate=0.1, max_depth=5, n_estimators=100, nthread=3, objective=binary:logistic, reg_alpha=1, seed=42, total=  22.5s\n",
      "[CV] colsample_bytree=0.4, learning_rate=0.1, max_depth=5, n_estimators=100, nthread=3, objective=binary:logistic, reg_alpha=1, seed=42 \n"
     ]
    },
    {
     "name": "stderr",
     "output_type": "stream",
     "text": [
      "/home/mbauw/anaconda3/lib/python3.7/site-packages/sklearn/preprocessing/label.py:151: DeprecationWarning: The truth value of an empty array is ambiguous. Returning False, but in future this will result in an error. Use `array.size > 0` to check that an array is not empty.\n",
      "  if diff:\n",
      "/home/mbauw/anaconda3/lib/python3.7/site-packages/sklearn/preprocessing/label.py:151: DeprecationWarning: The truth value of an empty array is ambiguous. Returning False, but in future this will result in an error. Use `array.size > 0` to check that an array is not empty.\n",
      "  if diff:\n"
     ]
    },
    {
     "name": "stdout",
     "output_type": "stream",
     "text": [
      "[CV]  colsample_bytree=0.4, learning_rate=0.1, max_depth=5, n_estimators=100, nthread=3, objective=binary:logistic, reg_alpha=1, seed=42, total=  31.6s\n",
      "[CV] colsample_bytree=0.4, learning_rate=0.1, max_depth=5, n_estimators=100, nthread=3, objective=binary:logistic, reg_alpha=1, seed=42 \n"
     ]
    },
    {
     "name": "stderr",
     "output_type": "stream",
     "text": [
      "/home/mbauw/anaconda3/lib/python3.7/site-packages/sklearn/preprocessing/label.py:151: DeprecationWarning: The truth value of an empty array is ambiguous. Returning False, but in future this will result in an error. Use `array.size > 0` to check that an array is not empty.\n",
      "  if diff:\n",
      "/home/mbauw/anaconda3/lib/python3.7/site-packages/sklearn/preprocessing/label.py:151: DeprecationWarning: The truth value of an empty array is ambiguous. Returning False, but in future this will result in an error. Use `array.size > 0` to check that an array is not empty.\n",
      "  if diff:\n"
     ]
    },
    {
     "name": "stdout",
     "output_type": "stream",
     "text": [
      "[CV]  colsample_bytree=0.4, learning_rate=0.1, max_depth=5, n_estimators=100, nthread=3, objective=binary:logistic, reg_alpha=1, seed=42, total=  23.8s\n",
      "[CV] colsample_bytree=0.4, learning_rate=0.1, max_depth=5, n_estimators=100, nthread=3, objective=binary:logistic, reg_alpha=2, seed=42 \n"
     ]
    },
    {
     "name": "stderr",
     "output_type": "stream",
     "text": [
      "/home/mbauw/anaconda3/lib/python3.7/site-packages/sklearn/preprocessing/label.py:151: DeprecationWarning: The truth value of an empty array is ambiguous. Returning False, but in future this will result in an error. Use `array.size > 0` to check that an array is not empty.\n",
      "  if diff:\n",
      "/home/mbauw/anaconda3/lib/python3.7/site-packages/sklearn/preprocessing/label.py:151: DeprecationWarning: The truth value of an empty array is ambiguous. Returning False, but in future this will result in an error. Use `array.size > 0` to check that an array is not empty.\n",
      "  if diff:\n"
     ]
    },
    {
     "name": "stdout",
     "output_type": "stream",
     "text": [
      "[CV]  colsample_bytree=0.4, learning_rate=0.1, max_depth=5, n_estimators=100, nthread=3, objective=binary:logistic, reg_alpha=2, seed=42, total=  22.5s\n",
      "[CV] colsample_bytree=0.4, learning_rate=0.1, max_depth=5, n_estimators=100, nthread=3, objective=binary:logistic, reg_alpha=2, seed=42 \n"
     ]
    },
    {
     "name": "stderr",
     "output_type": "stream",
     "text": [
      "/home/mbauw/anaconda3/lib/python3.7/site-packages/sklearn/preprocessing/label.py:151: DeprecationWarning: The truth value of an empty array is ambiguous. Returning False, but in future this will result in an error. Use `array.size > 0` to check that an array is not empty.\n",
      "  if diff:\n",
      "/home/mbauw/anaconda3/lib/python3.7/site-packages/sklearn/preprocessing/label.py:151: DeprecationWarning: The truth value of an empty array is ambiguous. Returning False, but in future this will result in an error. Use `array.size > 0` to check that an array is not empty.\n",
      "  if diff:\n"
     ]
    },
    {
     "name": "stdout",
     "output_type": "stream",
     "text": [
      "[CV]  colsample_bytree=0.4, learning_rate=0.1, max_depth=5, n_estimators=100, nthread=3, objective=binary:logistic, reg_alpha=2, seed=42, total=  22.3s\n",
      "[CV] colsample_bytree=0.4, learning_rate=0.1, max_depth=5, n_estimators=100, nthread=3, objective=binary:logistic, reg_alpha=2, seed=42 \n"
     ]
    },
    {
     "name": "stderr",
     "output_type": "stream",
     "text": [
      "/home/mbauw/anaconda3/lib/python3.7/site-packages/sklearn/preprocessing/label.py:151: DeprecationWarning: The truth value of an empty array is ambiguous. Returning False, but in future this will result in an error. Use `array.size > 0` to check that an array is not empty.\n",
      "  if diff:\n",
      "/home/mbauw/anaconda3/lib/python3.7/site-packages/sklearn/preprocessing/label.py:151: DeprecationWarning: The truth value of an empty array is ambiguous. Returning False, but in future this will result in an error. Use `array.size > 0` to check that an array is not empty.\n",
      "  if diff:\n"
     ]
    },
    {
     "name": "stdout",
     "output_type": "stream",
     "text": [
      "[CV]  colsample_bytree=0.4, learning_rate=0.1, max_depth=5, n_estimators=100, nthread=3, objective=binary:logistic, reg_alpha=2, seed=42, total=  22.2s\n",
      "[CV] colsample_bytree=0.4, learning_rate=0.1, max_depth=6, n_estimators=100, nthread=3, objective=binary:logistic, reg_alpha=0, seed=42 \n"
     ]
    },
    {
     "name": "stderr",
     "output_type": "stream",
     "text": [
      "/home/mbauw/anaconda3/lib/python3.7/site-packages/sklearn/preprocessing/label.py:151: DeprecationWarning: The truth value of an empty array is ambiguous. Returning False, but in future this will result in an error. Use `array.size > 0` to check that an array is not empty.\n",
      "  if diff:\n",
      "/home/mbauw/anaconda3/lib/python3.7/site-packages/sklearn/preprocessing/label.py:151: DeprecationWarning: The truth value of an empty array is ambiguous. Returning False, but in future this will result in an error. Use `array.size > 0` to check that an array is not empty.\n",
      "  if diff:\n"
     ]
    },
    {
     "name": "stdout",
     "output_type": "stream",
     "text": [
      "[CV]  colsample_bytree=0.4, learning_rate=0.1, max_depth=6, n_estimators=100, nthread=3, objective=binary:logistic, reg_alpha=0, seed=42, total=  27.4s\n",
      "[CV] colsample_bytree=0.4, learning_rate=0.1, max_depth=6, n_estimators=100, nthread=3, objective=binary:logistic, reg_alpha=0, seed=42 \n"
     ]
    },
    {
     "name": "stderr",
     "output_type": "stream",
     "text": [
      "/home/mbauw/anaconda3/lib/python3.7/site-packages/sklearn/preprocessing/label.py:151: DeprecationWarning: The truth value of an empty array is ambiguous. Returning False, but in future this will result in an error. Use `array.size > 0` to check that an array is not empty.\n",
      "  if diff:\n",
      "/home/mbauw/anaconda3/lib/python3.7/site-packages/sklearn/preprocessing/label.py:151: DeprecationWarning: The truth value of an empty array is ambiguous. Returning False, but in future this will result in an error. Use `array.size > 0` to check that an array is not empty.\n",
      "  if diff:\n"
     ]
    },
    {
     "name": "stdout",
     "output_type": "stream",
     "text": [
      "[CV]  colsample_bytree=0.4, learning_rate=0.1, max_depth=6, n_estimators=100, nthread=3, objective=binary:logistic, reg_alpha=0, seed=42, total=  27.3s\n",
      "[CV] colsample_bytree=0.4, learning_rate=0.1, max_depth=6, n_estimators=100, nthread=3, objective=binary:logistic, reg_alpha=0, seed=42 \n"
     ]
    },
    {
     "name": "stderr",
     "output_type": "stream",
     "text": [
      "/home/mbauw/anaconda3/lib/python3.7/site-packages/sklearn/preprocessing/label.py:151: DeprecationWarning: The truth value of an empty array is ambiguous. Returning False, but in future this will result in an error. Use `array.size > 0` to check that an array is not empty.\n",
      "  if diff:\n",
      "/home/mbauw/anaconda3/lib/python3.7/site-packages/sklearn/preprocessing/label.py:151: DeprecationWarning: The truth value of an empty array is ambiguous. Returning False, but in future this will result in an error. Use `array.size > 0` to check that an array is not empty.\n",
      "  if diff:\n"
     ]
    },
    {
     "name": "stdout",
     "output_type": "stream",
     "text": [
      "[CV]  colsample_bytree=0.4, learning_rate=0.1, max_depth=6, n_estimators=100, nthread=3, objective=binary:logistic, reg_alpha=0, seed=42, total=  27.3s\n",
      "[CV] colsample_bytree=0.4, learning_rate=0.1, max_depth=6, n_estimators=100, nthread=3, objective=binary:logistic, reg_alpha=1, seed=42 \n"
     ]
    },
    {
     "name": "stderr",
     "output_type": "stream",
     "text": [
      "/home/mbauw/anaconda3/lib/python3.7/site-packages/sklearn/preprocessing/label.py:151: DeprecationWarning: The truth value of an empty array is ambiguous. Returning False, but in future this will result in an error. Use `array.size > 0` to check that an array is not empty.\n",
      "  if diff:\n",
      "/home/mbauw/anaconda3/lib/python3.7/site-packages/sklearn/preprocessing/label.py:151: DeprecationWarning: The truth value of an empty array is ambiguous. Returning False, but in future this will result in an error. Use `array.size > 0` to check that an array is not empty.\n",
      "  if diff:\n"
     ]
    },
    {
     "name": "stdout",
     "output_type": "stream",
     "text": [
      "[CV]  colsample_bytree=0.4, learning_rate=0.1, max_depth=6, n_estimators=100, nthread=3, objective=binary:logistic, reg_alpha=1, seed=42, total=  27.1s\n",
      "[CV] colsample_bytree=0.4, learning_rate=0.1, max_depth=6, n_estimators=100, nthread=3, objective=binary:logistic, reg_alpha=1, seed=42 \n"
     ]
    },
    {
     "name": "stderr",
     "output_type": "stream",
     "text": [
      "/home/mbauw/anaconda3/lib/python3.7/site-packages/sklearn/preprocessing/label.py:151: DeprecationWarning: The truth value of an empty array is ambiguous. Returning False, but in future this will result in an error. Use `array.size > 0` to check that an array is not empty.\n",
      "  if diff:\n",
      "/home/mbauw/anaconda3/lib/python3.7/site-packages/sklearn/preprocessing/label.py:151: DeprecationWarning: The truth value of an empty array is ambiguous. Returning False, but in future this will result in an error. Use `array.size > 0` to check that an array is not empty.\n",
      "  if diff:\n"
     ]
    },
    {
     "name": "stdout",
     "output_type": "stream",
     "text": [
      "[CV]  colsample_bytree=0.4, learning_rate=0.1, max_depth=6, n_estimators=100, nthread=3, objective=binary:logistic, reg_alpha=1, seed=42, total=  26.9s\n",
      "[CV] colsample_bytree=0.4, learning_rate=0.1, max_depth=6, n_estimators=100, nthread=3, objective=binary:logistic, reg_alpha=1, seed=42 \n"
     ]
    },
    {
     "name": "stderr",
     "output_type": "stream",
     "text": [
      "/home/mbauw/anaconda3/lib/python3.7/site-packages/sklearn/preprocessing/label.py:151: DeprecationWarning: The truth value of an empty array is ambiguous. Returning False, but in future this will result in an error. Use `array.size > 0` to check that an array is not empty.\n",
      "  if diff:\n",
      "/home/mbauw/anaconda3/lib/python3.7/site-packages/sklearn/preprocessing/label.py:151: DeprecationWarning: The truth value of an empty array is ambiguous. Returning False, but in future this will result in an error. Use `array.size > 0` to check that an array is not empty.\n",
      "  if diff:\n"
     ]
    },
    {
     "name": "stdout",
     "output_type": "stream",
     "text": [
      "[CV]  colsample_bytree=0.4, learning_rate=0.1, max_depth=6, n_estimators=100, nthread=3, objective=binary:logistic, reg_alpha=1, seed=42, total=  27.0s\n",
      "[CV] colsample_bytree=0.4, learning_rate=0.1, max_depth=6, n_estimators=100, nthread=3, objective=binary:logistic, reg_alpha=2, seed=42 \n"
     ]
    },
    {
     "name": "stderr",
     "output_type": "stream",
     "text": [
      "/home/mbauw/anaconda3/lib/python3.7/site-packages/sklearn/preprocessing/label.py:151: DeprecationWarning: The truth value of an empty array is ambiguous. Returning False, but in future this will result in an error. Use `array.size > 0` to check that an array is not empty.\n",
      "  if diff:\n",
      "/home/mbauw/anaconda3/lib/python3.7/site-packages/sklearn/preprocessing/label.py:151: DeprecationWarning: The truth value of an empty array is ambiguous. Returning False, but in future this will result in an error. Use `array.size > 0` to check that an array is not empty.\n",
      "  if diff:\n"
     ]
    },
    {
     "name": "stdout",
     "output_type": "stream",
     "text": [
      "[CV]  colsample_bytree=0.4, learning_rate=0.1, max_depth=6, n_estimators=100, nthread=3, objective=binary:logistic, reg_alpha=2, seed=42, total=  26.8s\n",
      "[CV] colsample_bytree=0.4, learning_rate=0.1, max_depth=6, n_estimators=100, nthread=3, objective=binary:logistic, reg_alpha=2, seed=42 \n"
     ]
    },
    {
     "name": "stderr",
     "output_type": "stream",
     "text": [
      "/home/mbauw/anaconda3/lib/python3.7/site-packages/sklearn/preprocessing/label.py:151: DeprecationWarning: The truth value of an empty array is ambiguous. Returning False, but in future this will result in an error. Use `array.size > 0` to check that an array is not empty.\n",
      "  if diff:\n",
      "/home/mbauw/anaconda3/lib/python3.7/site-packages/sklearn/preprocessing/label.py:151: DeprecationWarning: The truth value of an empty array is ambiguous. Returning False, but in future this will result in an error. Use `array.size > 0` to check that an array is not empty.\n",
      "  if diff:\n"
     ]
    },
    {
     "name": "stdout",
     "output_type": "stream",
     "text": [
      "[CV]  colsample_bytree=0.4, learning_rate=0.1, max_depth=6, n_estimators=100, nthread=3, objective=binary:logistic, reg_alpha=2, seed=42, total=  26.9s\n",
      "[CV] colsample_bytree=0.4, learning_rate=0.1, max_depth=6, n_estimators=100, nthread=3, objective=binary:logistic, reg_alpha=2, seed=42 \n"
     ]
    },
    {
     "name": "stderr",
     "output_type": "stream",
     "text": [
      "/home/mbauw/anaconda3/lib/python3.7/site-packages/sklearn/preprocessing/label.py:151: DeprecationWarning: The truth value of an empty array is ambiguous. Returning False, but in future this will result in an error. Use `array.size > 0` to check that an array is not empty.\n",
      "  if diff:\n",
      "/home/mbauw/anaconda3/lib/python3.7/site-packages/sklearn/preprocessing/label.py:151: DeprecationWarning: The truth value of an empty array is ambiguous. Returning False, but in future this will result in an error. Use `array.size > 0` to check that an array is not empty.\n",
      "  if diff:\n"
     ]
    },
    {
     "name": "stdout",
     "output_type": "stream",
     "text": [
      "[CV]  colsample_bytree=0.4, learning_rate=0.1, max_depth=6, n_estimators=100, nthread=3, objective=binary:logistic, reg_alpha=2, seed=42, total=  27.1s\n",
      "[CV] colsample_bytree=0.5, learning_rate=0.1, max_depth=5, n_estimators=100, nthread=3, objective=binary:logistic, reg_alpha=0, seed=42 \n"
     ]
    },
    {
     "name": "stderr",
     "output_type": "stream",
     "text": [
      "/home/mbauw/anaconda3/lib/python3.7/site-packages/sklearn/preprocessing/label.py:151: DeprecationWarning: The truth value of an empty array is ambiguous. Returning False, but in future this will result in an error. Use `array.size > 0` to check that an array is not empty.\n",
      "  if diff:\n",
      "/home/mbauw/anaconda3/lib/python3.7/site-packages/sklearn/preprocessing/label.py:151: DeprecationWarning: The truth value of an empty array is ambiguous. Returning False, but in future this will result in an error. Use `array.size > 0` to check that an array is not empty.\n",
      "  if diff:\n"
     ]
    },
    {
     "name": "stdout",
     "output_type": "stream",
     "text": [
      "[CV]  colsample_bytree=0.5, learning_rate=0.1, max_depth=5, n_estimators=100, nthread=3, objective=binary:logistic, reg_alpha=0, seed=42, total=  26.3s\n",
      "[CV] colsample_bytree=0.5, learning_rate=0.1, max_depth=5, n_estimators=100, nthread=3, objective=binary:logistic, reg_alpha=0, seed=42 \n"
     ]
    },
    {
     "name": "stderr",
     "output_type": "stream",
     "text": [
      "/home/mbauw/anaconda3/lib/python3.7/site-packages/sklearn/preprocessing/label.py:151: DeprecationWarning: The truth value of an empty array is ambiguous. Returning False, but in future this will result in an error. Use `array.size > 0` to check that an array is not empty.\n",
      "  if diff:\n",
      "/home/mbauw/anaconda3/lib/python3.7/site-packages/sklearn/preprocessing/label.py:151: DeprecationWarning: The truth value of an empty array is ambiguous. Returning False, but in future this will result in an error. Use `array.size > 0` to check that an array is not empty.\n",
      "  if diff:\n"
     ]
    },
    {
     "name": "stdout",
     "output_type": "stream",
     "text": [
      "[CV]  colsample_bytree=0.5, learning_rate=0.1, max_depth=5, n_estimators=100, nthread=3, objective=binary:logistic, reg_alpha=0, seed=42, total=  25.9s\n",
      "[CV] colsample_bytree=0.5, learning_rate=0.1, max_depth=5, n_estimators=100, nthread=3, objective=binary:logistic, reg_alpha=0, seed=42 \n"
     ]
    },
    {
     "name": "stderr",
     "output_type": "stream",
     "text": [
      "/home/mbauw/anaconda3/lib/python3.7/site-packages/sklearn/preprocessing/label.py:151: DeprecationWarning: The truth value of an empty array is ambiguous. Returning False, but in future this will result in an error. Use `array.size > 0` to check that an array is not empty.\n",
      "  if diff:\n",
      "/home/mbauw/anaconda3/lib/python3.7/site-packages/sklearn/preprocessing/label.py:151: DeprecationWarning: The truth value of an empty array is ambiguous. Returning False, but in future this will result in an error. Use `array.size > 0` to check that an array is not empty.\n",
      "  if diff:\n"
     ]
    },
    {
     "name": "stdout",
     "output_type": "stream",
     "text": [
      "[CV]  colsample_bytree=0.5, learning_rate=0.1, max_depth=5, n_estimators=100, nthread=3, objective=binary:logistic, reg_alpha=0, seed=42, total=  26.0s\n",
      "[CV] colsample_bytree=0.5, learning_rate=0.1, max_depth=5, n_estimators=100, nthread=3, objective=binary:logistic, reg_alpha=1, seed=42 \n"
     ]
    },
    {
     "name": "stderr",
     "output_type": "stream",
     "text": [
      "/home/mbauw/anaconda3/lib/python3.7/site-packages/sklearn/preprocessing/label.py:151: DeprecationWarning: The truth value of an empty array is ambiguous. Returning False, but in future this will result in an error. Use `array.size > 0` to check that an array is not empty.\n",
      "  if diff:\n",
      "/home/mbauw/anaconda3/lib/python3.7/site-packages/sklearn/preprocessing/label.py:151: DeprecationWarning: The truth value of an empty array is ambiguous. Returning False, but in future this will result in an error. Use `array.size > 0` to check that an array is not empty.\n",
      "  if diff:\n"
     ]
    },
    {
     "name": "stdout",
     "output_type": "stream",
     "text": [
      "[CV]  colsample_bytree=0.5, learning_rate=0.1, max_depth=5, n_estimators=100, nthread=3, objective=binary:logistic, reg_alpha=1, seed=42, total=  25.9s\n",
      "[CV] colsample_bytree=0.5, learning_rate=0.1, max_depth=5, n_estimators=100, nthread=3, objective=binary:logistic, reg_alpha=1, seed=42 \n"
     ]
    },
    {
     "name": "stderr",
     "output_type": "stream",
     "text": [
      "/home/mbauw/anaconda3/lib/python3.7/site-packages/sklearn/preprocessing/label.py:151: DeprecationWarning: The truth value of an empty array is ambiguous. Returning False, but in future this will result in an error. Use `array.size > 0` to check that an array is not empty.\n",
      "  if diff:\n",
      "/home/mbauw/anaconda3/lib/python3.7/site-packages/sklearn/preprocessing/label.py:151: DeprecationWarning: The truth value of an empty array is ambiguous. Returning False, but in future this will result in an error. Use `array.size > 0` to check that an array is not empty.\n",
      "  if diff:\n"
     ]
    },
    {
     "name": "stdout",
     "output_type": "stream",
     "text": [
      "[CV]  colsample_bytree=0.5, learning_rate=0.1, max_depth=5, n_estimators=100, nthread=3, objective=binary:logistic, reg_alpha=1, seed=42, total=  25.9s\n",
      "[CV] colsample_bytree=0.5, learning_rate=0.1, max_depth=5, n_estimators=100, nthread=3, objective=binary:logistic, reg_alpha=1, seed=42 \n"
     ]
    },
    {
     "name": "stderr",
     "output_type": "stream",
     "text": [
      "/home/mbauw/anaconda3/lib/python3.7/site-packages/sklearn/preprocessing/label.py:151: DeprecationWarning: The truth value of an empty array is ambiguous. Returning False, but in future this will result in an error. Use `array.size > 0` to check that an array is not empty.\n",
      "  if diff:\n",
      "/home/mbauw/anaconda3/lib/python3.7/site-packages/sklearn/preprocessing/label.py:151: DeprecationWarning: The truth value of an empty array is ambiguous. Returning False, but in future this will result in an error. Use `array.size > 0` to check that an array is not empty.\n",
      "  if diff:\n"
     ]
    },
    {
     "name": "stdout",
     "output_type": "stream",
     "text": [
      "[CV]  colsample_bytree=0.5, learning_rate=0.1, max_depth=5, n_estimators=100, nthread=3, objective=binary:logistic, reg_alpha=1, seed=42, total=  26.0s\n",
      "[CV] colsample_bytree=0.5, learning_rate=0.1, max_depth=5, n_estimators=100, nthread=3, objective=binary:logistic, reg_alpha=2, seed=42 \n"
     ]
    },
    {
     "name": "stderr",
     "output_type": "stream",
     "text": [
      "/home/mbauw/anaconda3/lib/python3.7/site-packages/sklearn/preprocessing/label.py:151: DeprecationWarning: The truth value of an empty array is ambiguous. Returning False, but in future this will result in an error. Use `array.size > 0` to check that an array is not empty.\n",
      "  if diff:\n",
      "/home/mbauw/anaconda3/lib/python3.7/site-packages/sklearn/preprocessing/label.py:151: DeprecationWarning: The truth value of an empty array is ambiguous. Returning False, but in future this will result in an error. Use `array.size > 0` to check that an array is not empty.\n",
      "  if diff:\n"
     ]
    },
    {
     "name": "stdout",
     "output_type": "stream",
     "text": [
      "[CV]  colsample_bytree=0.5, learning_rate=0.1, max_depth=5, n_estimators=100, nthread=3, objective=binary:logistic, reg_alpha=2, seed=42, total=  26.6s\n",
      "[CV] colsample_bytree=0.5, learning_rate=0.1, max_depth=5, n_estimators=100, nthread=3, objective=binary:logistic, reg_alpha=2, seed=42 \n"
     ]
    },
    {
     "name": "stderr",
     "output_type": "stream",
     "text": [
      "/home/mbauw/anaconda3/lib/python3.7/site-packages/sklearn/preprocessing/label.py:151: DeprecationWarning: The truth value of an empty array is ambiguous. Returning False, but in future this will result in an error. Use `array.size > 0` to check that an array is not empty.\n",
      "  if diff:\n",
      "/home/mbauw/anaconda3/lib/python3.7/site-packages/sklearn/preprocessing/label.py:151: DeprecationWarning: The truth value of an empty array is ambiguous. Returning False, but in future this will result in an error. Use `array.size > 0` to check that an array is not empty.\n",
      "  if diff:\n"
     ]
    },
    {
     "name": "stdout",
     "output_type": "stream",
     "text": [
      "[CV]  colsample_bytree=0.5, learning_rate=0.1, max_depth=5, n_estimators=100, nthread=3, objective=binary:logistic, reg_alpha=2, seed=42, total=  25.7s\n",
      "[CV] colsample_bytree=0.5, learning_rate=0.1, max_depth=5, n_estimators=100, nthread=3, objective=binary:logistic, reg_alpha=2, seed=42 \n"
     ]
    },
    {
     "name": "stderr",
     "output_type": "stream",
     "text": [
      "/home/mbauw/anaconda3/lib/python3.7/site-packages/sklearn/preprocessing/label.py:151: DeprecationWarning: The truth value of an empty array is ambiguous. Returning False, but in future this will result in an error. Use `array.size > 0` to check that an array is not empty.\n",
      "  if diff:\n",
      "/home/mbauw/anaconda3/lib/python3.7/site-packages/sklearn/preprocessing/label.py:151: DeprecationWarning: The truth value of an empty array is ambiguous. Returning False, but in future this will result in an error. Use `array.size > 0` to check that an array is not empty.\n",
      "  if diff:\n"
     ]
    },
    {
     "name": "stdout",
     "output_type": "stream",
     "text": [
      "[CV]  colsample_bytree=0.5, learning_rate=0.1, max_depth=5, n_estimators=100, nthread=3, objective=binary:logistic, reg_alpha=2, seed=42, total=  31.8s\n",
      "[CV] colsample_bytree=0.5, learning_rate=0.1, max_depth=6, n_estimators=100, nthread=3, objective=binary:logistic, reg_alpha=0, seed=42 \n"
     ]
    },
    {
     "name": "stderr",
     "output_type": "stream",
     "text": [
      "/home/mbauw/anaconda3/lib/python3.7/site-packages/sklearn/preprocessing/label.py:151: DeprecationWarning: The truth value of an empty array is ambiguous. Returning False, but in future this will result in an error. Use `array.size > 0` to check that an array is not empty.\n",
      "  if diff:\n",
      "/home/mbauw/anaconda3/lib/python3.7/site-packages/sklearn/preprocessing/label.py:151: DeprecationWarning: The truth value of an empty array is ambiguous. Returning False, but in future this will result in an error. Use `array.size > 0` to check that an array is not empty.\n",
      "  if diff:\n"
     ]
    },
    {
     "name": "stdout",
     "output_type": "stream",
     "text": [
      "[CV]  colsample_bytree=0.5, learning_rate=0.1, max_depth=6, n_estimators=100, nthread=3, objective=binary:logistic, reg_alpha=0, seed=42, total=  35.0s\n",
      "[CV] colsample_bytree=0.5, learning_rate=0.1, max_depth=6, n_estimators=100, nthread=3, objective=binary:logistic, reg_alpha=0, seed=42 \n"
     ]
    },
    {
     "name": "stderr",
     "output_type": "stream",
     "text": [
      "/home/mbauw/anaconda3/lib/python3.7/site-packages/sklearn/preprocessing/label.py:151: DeprecationWarning: The truth value of an empty array is ambiguous. Returning False, but in future this will result in an error. Use `array.size > 0` to check that an array is not empty.\n",
      "  if diff:\n",
      "/home/mbauw/anaconda3/lib/python3.7/site-packages/sklearn/preprocessing/label.py:151: DeprecationWarning: The truth value of an empty array is ambiguous. Returning False, but in future this will result in an error. Use `array.size > 0` to check that an array is not empty.\n",
      "  if diff:\n"
     ]
    },
    {
     "name": "stdout",
     "output_type": "stream",
     "text": [
      "[CV]  colsample_bytree=0.5, learning_rate=0.1, max_depth=6, n_estimators=100, nthread=3, objective=binary:logistic, reg_alpha=0, seed=42, total=  33.9s\n",
      "[CV] colsample_bytree=0.5, learning_rate=0.1, max_depth=6, n_estimators=100, nthread=3, objective=binary:logistic, reg_alpha=0, seed=42 \n"
     ]
    },
    {
     "name": "stderr",
     "output_type": "stream",
     "text": [
      "/home/mbauw/anaconda3/lib/python3.7/site-packages/sklearn/preprocessing/label.py:151: DeprecationWarning: The truth value of an empty array is ambiguous. Returning False, but in future this will result in an error. Use `array.size > 0` to check that an array is not empty.\n",
      "  if diff:\n",
      "/home/mbauw/anaconda3/lib/python3.7/site-packages/sklearn/preprocessing/label.py:151: DeprecationWarning: The truth value of an empty array is ambiguous. Returning False, but in future this will result in an error. Use `array.size > 0` to check that an array is not empty.\n",
      "  if diff:\n"
     ]
    },
    {
     "name": "stdout",
     "output_type": "stream",
     "text": [
      "[CV]  colsample_bytree=0.5, learning_rate=0.1, max_depth=6, n_estimators=100, nthread=3, objective=binary:logistic, reg_alpha=0, seed=42, total=  33.4s\n",
      "[CV] colsample_bytree=0.5, learning_rate=0.1, max_depth=6, n_estimators=100, nthread=3, objective=binary:logistic, reg_alpha=1, seed=42 \n"
     ]
    },
    {
     "name": "stderr",
     "output_type": "stream",
     "text": [
      "/home/mbauw/anaconda3/lib/python3.7/site-packages/sklearn/preprocessing/label.py:151: DeprecationWarning: The truth value of an empty array is ambiguous. Returning False, but in future this will result in an error. Use `array.size > 0` to check that an array is not empty.\n",
      "  if diff:\n",
      "/home/mbauw/anaconda3/lib/python3.7/site-packages/sklearn/preprocessing/label.py:151: DeprecationWarning: The truth value of an empty array is ambiguous. Returning False, but in future this will result in an error. Use `array.size > 0` to check that an array is not empty.\n",
      "  if diff:\n"
     ]
    },
    {
     "name": "stdout",
     "output_type": "stream",
     "text": [
      "[CV]  colsample_bytree=0.5, learning_rate=0.1, max_depth=6, n_estimators=100, nthread=3, objective=binary:logistic, reg_alpha=1, seed=42, total=  32.5s\n",
      "[CV] colsample_bytree=0.5, learning_rate=0.1, max_depth=6, n_estimators=100, nthread=3, objective=binary:logistic, reg_alpha=1, seed=42 \n"
     ]
    },
    {
     "name": "stderr",
     "output_type": "stream",
     "text": [
      "/home/mbauw/anaconda3/lib/python3.7/site-packages/sklearn/preprocessing/label.py:151: DeprecationWarning: The truth value of an empty array is ambiguous. Returning False, but in future this will result in an error. Use `array.size > 0` to check that an array is not empty.\n",
      "  if diff:\n",
      "/home/mbauw/anaconda3/lib/python3.7/site-packages/sklearn/preprocessing/label.py:151: DeprecationWarning: The truth value of an empty array is ambiguous. Returning False, but in future this will result in an error. Use `array.size > 0` to check that an array is not empty.\n",
      "  if diff:\n"
     ]
    },
    {
     "name": "stdout",
     "output_type": "stream",
     "text": [
      "[CV]  colsample_bytree=0.5, learning_rate=0.1, max_depth=6, n_estimators=100, nthread=3, objective=binary:logistic, reg_alpha=1, seed=42, total=  32.1s\n",
      "[CV] colsample_bytree=0.5, learning_rate=0.1, max_depth=6, n_estimators=100, nthread=3, objective=binary:logistic, reg_alpha=1, seed=42 \n"
     ]
    },
    {
     "name": "stderr",
     "output_type": "stream",
     "text": [
      "/home/mbauw/anaconda3/lib/python3.7/site-packages/sklearn/preprocessing/label.py:151: DeprecationWarning: The truth value of an empty array is ambiguous. Returning False, but in future this will result in an error. Use `array.size > 0` to check that an array is not empty.\n",
      "  if diff:\n",
      "/home/mbauw/anaconda3/lib/python3.7/site-packages/sklearn/preprocessing/label.py:151: DeprecationWarning: The truth value of an empty array is ambiguous. Returning False, but in future this will result in an error. Use `array.size > 0` to check that an array is not empty.\n",
      "  if diff:\n"
     ]
    },
    {
     "name": "stdout",
     "output_type": "stream",
     "text": [
      "[CV]  colsample_bytree=0.5, learning_rate=0.1, max_depth=6, n_estimators=100, nthread=3, objective=binary:logistic, reg_alpha=1, seed=42, total=  31.8s\n",
      "[CV] colsample_bytree=0.5, learning_rate=0.1, max_depth=6, n_estimators=100, nthread=3, objective=binary:logistic, reg_alpha=2, seed=42 \n"
     ]
    },
    {
     "name": "stderr",
     "output_type": "stream",
     "text": [
      "/home/mbauw/anaconda3/lib/python3.7/site-packages/sklearn/preprocessing/label.py:151: DeprecationWarning: The truth value of an empty array is ambiguous. Returning False, but in future this will result in an error. Use `array.size > 0` to check that an array is not empty.\n",
      "  if diff:\n",
      "/home/mbauw/anaconda3/lib/python3.7/site-packages/sklearn/preprocessing/label.py:151: DeprecationWarning: The truth value of an empty array is ambiguous. Returning False, but in future this will result in an error. Use `array.size > 0` to check that an array is not empty.\n",
      "  if diff:\n"
     ]
    },
    {
     "name": "stdout",
     "output_type": "stream",
     "text": [
      "[CV]  colsample_bytree=0.5, learning_rate=0.1, max_depth=6, n_estimators=100, nthread=3, objective=binary:logistic, reg_alpha=2, seed=42, total=  31.0s\n",
      "[CV] colsample_bytree=0.5, learning_rate=0.1, max_depth=6, n_estimators=100, nthread=3, objective=binary:logistic, reg_alpha=2, seed=42 \n"
     ]
    },
    {
     "name": "stderr",
     "output_type": "stream",
     "text": [
      "/home/mbauw/anaconda3/lib/python3.7/site-packages/sklearn/preprocessing/label.py:151: DeprecationWarning: The truth value of an empty array is ambiguous. Returning False, but in future this will result in an error. Use `array.size > 0` to check that an array is not empty.\n",
      "  if diff:\n",
      "/home/mbauw/anaconda3/lib/python3.7/site-packages/sklearn/preprocessing/label.py:151: DeprecationWarning: The truth value of an empty array is ambiguous. Returning False, but in future this will result in an error. Use `array.size > 0` to check that an array is not empty.\n",
      "  if diff:\n"
     ]
    },
    {
     "name": "stdout",
     "output_type": "stream",
     "text": [
      "[CV]  colsample_bytree=0.5, learning_rate=0.1, max_depth=6, n_estimators=100, nthread=3, objective=binary:logistic, reg_alpha=2, seed=42, total=  31.4s\n",
      "[CV] colsample_bytree=0.5, learning_rate=0.1, max_depth=6, n_estimators=100, nthread=3, objective=binary:logistic, reg_alpha=2, seed=42 \n"
     ]
    },
    {
     "name": "stderr",
     "output_type": "stream",
     "text": [
      "/home/mbauw/anaconda3/lib/python3.7/site-packages/sklearn/preprocessing/label.py:151: DeprecationWarning: The truth value of an empty array is ambiguous. Returning False, but in future this will result in an error. Use `array.size > 0` to check that an array is not empty.\n",
      "  if diff:\n",
      "/home/mbauw/anaconda3/lib/python3.7/site-packages/sklearn/preprocessing/label.py:151: DeprecationWarning: The truth value of an empty array is ambiguous. Returning False, but in future this will result in an error. Use `array.size > 0` to check that an array is not empty.\n",
      "  if diff:\n"
     ]
    },
    {
     "name": "stdout",
     "output_type": "stream",
     "text": [
      "[CV]  colsample_bytree=0.5, learning_rate=0.1, max_depth=6, n_estimators=100, nthread=3, objective=binary:logistic, reg_alpha=2, seed=42, total=  31.3s\n",
      "[CV] colsample_bytree=0.7, learning_rate=0.1, max_depth=5, n_estimators=100, nthread=3, objective=binary:logistic, reg_alpha=0, seed=42 \n"
     ]
    },
    {
     "name": "stderr",
     "output_type": "stream",
     "text": [
      "/home/mbauw/anaconda3/lib/python3.7/site-packages/sklearn/preprocessing/label.py:151: DeprecationWarning: The truth value of an empty array is ambiguous. Returning False, but in future this will result in an error. Use `array.size > 0` to check that an array is not empty.\n",
      "  if diff:\n",
      "/home/mbauw/anaconda3/lib/python3.7/site-packages/sklearn/preprocessing/label.py:151: DeprecationWarning: The truth value of an empty array is ambiguous. Returning False, but in future this will result in an error. Use `array.size > 0` to check that an array is not empty.\n",
      "  if diff:\n"
     ]
    },
    {
     "name": "stdout",
     "output_type": "stream",
     "text": [
      "[CV]  colsample_bytree=0.7, learning_rate=0.1, max_depth=5, n_estimators=100, nthread=3, objective=binary:logistic, reg_alpha=0, seed=42, total=  33.7s\n",
      "[CV] colsample_bytree=0.7, learning_rate=0.1, max_depth=5, n_estimators=100, nthread=3, objective=binary:logistic, reg_alpha=0, seed=42 \n"
     ]
    },
    {
     "name": "stderr",
     "output_type": "stream",
     "text": [
      "/home/mbauw/anaconda3/lib/python3.7/site-packages/sklearn/preprocessing/label.py:151: DeprecationWarning: The truth value of an empty array is ambiguous. Returning False, but in future this will result in an error. Use `array.size > 0` to check that an array is not empty.\n",
      "  if diff:\n",
      "/home/mbauw/anaconda3/lib/python3.7/site-packages/sklearn/preprocessing/label.py:151: DeprecationWarning: The truth value of an empty array is ambiguous. Returning False, but in future this will result in an error. Use `array.size > 0` to check that an array is not empty.\n",
      "  if diff:\n"
     ]
    },
    {
     "name": "stdout",
     "output_type": "stream",
     "text": [
      "[CV]  colsample_bytree=0.7, learning_rate=0.1, max_depth=5, n_estimators=100, nthread=3, objective=binary:logistic, reg_alpha=0, seed=42, total=  35.3s\n",
      "[CV] colsample_bytree=0.7, learning_rate=0.1, max_depth=5, n_estimators=100, nthread=3, objective=binary:logistic, reg_alpha=0, seed=42 \n"
     ]
    },
    {
     "name": "stderr",
     "output_type": "stream",
     "text": [
      "/home/mbauw/anaconda3/lib/python3.7/site-packages/sklearn/preprocessing/label.py:151: DeprecationWarning: The truth value of an empty array is ambiguous. Returning False, but in future this will result in an error. Use `array.size > 0` to check that an array is not empty.\n",
      "  if diff:\n",
      "/home/mbauw/anaconda3/lib/python3.7/site-packages/sklearn/preprocessing/label.py:151: DeprecationWarning: The truth value of an empty array is ambiguous. Returning False, but in future this will result in an error. Use `array.size > 0` to check that an array is not empty.\n",
      "  if diff:\n"
     ]
    },
    {
     "name": "stdout",
     "output_type": "stream",
     "text": [
      "[CV]  colsample_bytree=0.7, learning_rate=0.1, max_depth=5, n_estimators=100, nthread=3, objective=binary:logistic, reg_alpha=0, seed=42, total=  33.6s\n",
      "[CV] colsample_bytree=0.7, learning_rate=0.1, max_depth=5, n_estimators=100, nthread=3, objective=binary:logistic, reg_alpha=1, seed=42 \n"
     ]
    },
    {
     "name": "stderr",
     "output_type": "stream",
     "text": [
      "/home/mbauw/anaconda3/lib/python3.7/site-packages/sklearn/preprocessing/label.py:151: DeprecationWarning: The truth value of an empty array is ambiguous. Returning False, but in future this will result in an error. Use `array.size > 0` to check that an array is not empty.\n",
      "  if diff:\n",
      "/home/mbauw/anaconda3/lib/python3.7/site-packages/sklearn/preprocessing/label.py:151: DeprecationWarning: The truth value of an empty array is ambiguous. Returning False, but in future this will result in an error. Use `array.size > 0` to check that an array is not empty.\n",
      "  if diff:\n"
     ]
    },
    {
     "name": "stdout",
     "output_type": "stream",
     "text": [
      "[CV]  colsample_bytree=0.7, learning_rate=0.1, max_depth=5, n_estimators=100, nthread=3, objective=binary:logistic, reg_alpha=1, seed=42, total=  33.5s\n",
      "[CV] colsample_bytree=0.7, learning_rate=0.1, max_depth=5, n_estimators=100, nthread=3, objective=binary:logistic, reg_alpha=1, seed=42 \n"
     ]
    },
    {
     "name": "stderr",
     "output_type": "stream",
     "text": [
      "/home/mbauw/anaconda3/lib/python3.7/site-packages/sklearn/preprocessing/label.py:151: DeprecationWarning: The truth value of an empty array is ambiguous. Returning False, but in future this will result in an error. Use `array.size > 0` to check that an array is not empty.\n",
      "  if diff:\n",
      "/home/mbauw/anaconda3/lib/python3.7/site-packages/sklearn/preprocessing/label.py:151: DeprecationWarning: The truth value of an empty array is ambiguous. Returning False, but in future this will result in an error. Use `array.size > 0` to check that an array is not empty.\n",
      "  if diff:\n"
     ]
    },
    {
     "name": "stdout",
     "output_type": "stream",
     "text": [
      "[CV]  colsample_bytree=0.7, learning_rate=0.1, max_depth=5, n_estimators=100, nthread=3, objective=binary:logistic, reg_alpha=1, seed=42, total=  34.6s\n",
      "[CV] colsample_bytree=0.7, learning_rate=0.1, max_depth=5, n_estimators=100, nthread=3, objective=binary:logistic, reg_alpha=1, seed=42 \n"
     ]
    },
    {
     "name": "stderr",
     "output_type": "stream",
     "text": [
      "/home/mbauw/anaconda3/lib/python3.7/site-packages/sklearn/preprocessing/label.py:151: DeprecationWarning: The truth value of an empty array is ambiguous. Returning False, but in future this will result in an error. Use `array.size > 0` to check that an array is not empty.\n",
      "  if diff:\n",
      "/home/mbauw/anaconda3/lib/python3.7/site-packages/sklearn/preprocessing/label.py:151: DeprecationWarning: The truth value of an empty array is ambiguous. Returning False, but in future this will result in an error. Use `array.size > 0` to check that an array is not empty.\n",
      "  if diff:\n"
     ]
    },
    {
     "name": "stdout",
     "output_type": "stream",
     "text": [
      "[CV]  colsample_bytree=0.7, learning_rate=0.1, max_depth=5, n_estimators=100, nthread=3, objective=binary:logistic, reg_alpha=1, seed=42, total=  33.8s\n",
      "[CV] colsample_bytree=0.7, learning_rate=0.1, max_depth=5, n_estimators=100, nthread=3, objective=binary:logistic, reg_alpha=2, seed=42 \n"
     ]
    },
    {
     "name": "stderr",
     "output_type": "stream",
     "text": [
      "/home/mbauw/anaconda3/lib/python3.7/site-packages/sklearn/preprocessing/label.py:151: DeprecationWarning: The truth value of an empty array is ambiguous. Returning False, but in future this will result in an error. Use `array.size > 0` to check that an array is not empty.\n",
      "  if diff:\n",
      "/home/mbauw/anaconda3/lib/python3.7/site-packages/sklearn/preprocessing/label.py:151: DeprecationWarning: The truth value of an empty array is ambiguous. Returning False, but in future this will result in an error. Use `array.size > 0` to check that an array is not empty.\n",
      "  if diff:\n"
     ]
    },
    {
     "name": "stdout",
     "output_type": "stream",
     "text": [
      "[CV]  colsample_bytree=0.7, learning_rate=0.1, max_depth=5, n_estimators=100, nthread=3, objective=binary:logistic, reg_alpha=2, seed=42, total=  33.5s\n",
      "[CV] colsample_bytree=0.7, learning_rate=0.1, max_depth=5, n_estimators=100, nthread=3, objective=binary:logistic, reg_alpha=2, seed=42 \n"
     ]
    },
    {
     "name": "stderr",
     "output_type": "stream",
     "text": [
      "/home/mbauw/anaconda3/lib/python3.7/site-packages/sklearn/preprocessing/label.py:151: DeprecationWarning: The truth value of an empty array is ambiguous. Returning False, but in future this will result in an error. Use `array.size > 0` to check that an array is not empty.\n",
      "  if diff:\n",
      "/home/mbauw/anaconda3/lib/python3.7/site-packages/sklearn/preprocessing/label.py:151: DeprecationWarning: The truth value of an empty array is ambiguous. Returning False, but in future this will result in an error. Use `array.size > 0` to check that an array is not empty.\n",
      "  if diff:\n"
     ]
    },
    {
     "name": "stdout",
     "output_type": "stream",
     "text": [
      "[CV]  colsample_bytree=0.7, learning_rate=0.1, max_depth=5, n_estimators=100, nthread=3, objective=binary:logistic, reg_alpha=2, seed=42, total=  33.3s\n",
      "[CV] colsample_bytree=0.7, learning_rate=0.1, max_depth=5, n_estimators=100, nthread=3, objective=binary:logistic, reg_alpha=2, seed=42 \n"
     ]
    },
    {
     "name": "stderr",
     "output_type": "stream",
     "text": [
      "/home/mbauw/anaconda3/lib/python3.7/site-packages/sklearn/preprocessing/label.py:151: DeprecationWarning: The truth value of an empty array is ambiguous. Returning False, but in future this will result in an error. Use `array.size > 0` to check that an array is not empty.\n",
      "  if diff:\n",
      "/home/mbauw/anaconda3/lib/python3.7/site-packages/sklearn/preprocessing/label.py:151: DeprecationWarning: The truth value of an empty array is ambiguous. Returning False, but in future this will result in an error. Use `array.size > 0` to check that an array is not empty.\n",
      "  if diff:\n"
     ]
    },
    {
     "name": "stdout",
     "output_type": "stream",
     "text": [
      "[CV]  colsample_bytree=0.7, learning_rate=0.1, max_depth=5, n_estimators=100, nthread=3, objective=binary:logistic, reg_alpha=2, seed=42, total=  33.6s\n",
      "[CV] colsample_bytree=0.7, learning_rate=0.1, max_depth=6, n_estimators=100, nthread=3, objective=binary:logistic, reg_alpha=0, seed=42 \n"
     ]
    },
    {
     "name": "stderr",
     "output_type": "stream",
     "text": [
      "/home/mbauw/anaconda3/lib/python3.7/site-packages/sklearn/preprocessing/label.py:151: DeprecationWarning: The truth value of an empty array is ambiguous. Returning False, but in future this will result in an error. Use `array.size > 0` to check that an array is not empty.\n",
      "  if diff:\n",
      "/home/mbauw/anaconda3/lib/python3.7/site-packages/sklearn/preprocessing/label.py:151: DeprecationWarning: The truth value of an empty array is ambiguous. Returning False, but in future this will result in an error. Use `array.size > 0` to check that an array is not empty.\n",
      "  if diff:\n"
     ]
    },
    {
     "name": "stdout",
     "output_type": "stream",
     "text": [
      "[CV]  colsample_bytree=0.7, learning_rate=0.1, max_depth=6, n_estimators=100, nthread=3, objective=binary:logistic, reg_alpha=0, seed=42, total=  40.7s\n",
      "[CV] colsample_bytree=0.7, learning_rate=0.1, max_depth=6, n_estimators=100, nthread=3, objective=binary:logistic, reg_alpha=0, seed=42 \n"
     ]
    },
    {
     "name": "stderr",
     "output_type": "stream",
     "text": [
      "/home/mbauw/anaconda3/lib/python3.7/site-packages/sklearn/preprocessing/label.py:151: DeprecationWarning: The truth value of an empty array is ambiguous. Returning False, but in future this will result in an error. Use `array.size > 0` to check that an array is not empty.\n",
      "  if diff:\n",
      "/home/mbauw/anaconda3/lib/python3.7/site-packages/sklearn/preprocessing/label.py:151: DeprecationWarning: The truth value of an empty array is ambiguous. Returning False, but in future this will result in an error. Use `array.size > 0` to check that an array is not empty.\n",
      "  if diff:\n"
     ]
    },
    {
     "name": "stdout",
     "output_type": "stream",
     "text": [
      "[CV]  colsample_bytree=0.7, learning_rate=0.1, max_depth=6, n_estimators=100, nthread=3, objective=binary:logistic, reg_alpha=0, seed=42, total=  40.7s\n",
      "[CV] colsample_bytree=0.7, learning_rate=0.1, max_depth=6, n_estimators=100, nthread=3, objective=binary:logistic, reg_alpha=0, seed=42 \n"
     ]
    },
    {
     "name": "stderr",
     "output_type": "stream",
     "text": [
      "/home/mbauw/anaconda3/lib/python3.7/site-packages/sklearn/preprocessing/label.py:151: DeprecationWarning: The truth value of an empty array is ambiguous. Returning False, but in future this will result in an error. Use `array.size > 0` to check that an array is not empty.\n",
      "  if diff:\n",
      "/home/mbauw/anaconda3/lib/python3.7/site-packages/sklearn/preprocessing/label.py:151: DeprecationWarning: The truth value of an empty array is ambiguous. Returning False, but in future this will result in an error. Use `array.size > 0` to check that an array is not empty.\n",
      "  if diff:\n"
     ]
    },
    {
     "name": "stdout",
     "output_type": "stream",
     "text": [
      "[CV]  colsample_bytree=0.7, learning_rate=0.1, max_depth=6, n_estimators=100, nthread=3, objective=binary:logistic, reg_alpha=0, seed=42, total=  41.0s\n",
      "[CV] colsample_bytree=0.7, learning_rate=0.1, max_depth=6, n_estimators=100, nthread=3, objective=binary:logistic, reg_alpha=1, seed=42 \n"
     ]
    },
    {
     "name": "stderr",
     "output_type": "stream",
     "text": [
      "/home/mbauw/anaconda3/lib/python3.7/site-packages/sklearn/preprocessing/label.py:151: DeprecationWarning: The truth value of an empty array is ambiguous. Returning False, but in future this will result in an error. Use `array.size > 0` to check that an array is not empty.\n",
      "  if diff:\n",
      "/home/mbauw/anaconda3/lib/python3.7/site-packages/sklearn/preprocessing/label.py:151: DeprecationWarning: The truth value of an empty array is ambiguous. Returning False, but in future this will result in an error. Use `array.size > 0` to check that an array is not empty.\n",
      "  if diff:\n"
     ]
    },
    {
     "name": "stdout",
     "output_type": "stream",
     "text": [
      "[CV]  colsample_bytree=0.7, learning_rate=0.1, max_depth=6, n_estimators=100, nthread=3, objective=binary:logistic, reg_alpha=1, seed=42, total=  40.5s\n",
      "[CV] colsample_bytree=0.7, learning_rate=0.1, max_depth=6, n_estimators=100, nthread=3, objective=binary:logistic, reg_alpha=1, seed=42 \n"
     ]
    },
    {
     "name": "stderr",
     "output_type": "stream",
     "text": [
      "/home/mbauw/anaconda3/lib/python3.7/site-packages/sklearn/preprocessing/label.py:151: DeprecationWarning: The truth value of an empty array is ambiguous. Returning False, but in future this will result in an error. Use `array.size > 0` to check that an array is not empty.\n",
      "  if diff:\n",
      "/home/mbauw/anaconda3/lib/python3.7/site-packages/sklearn/preprocessing/label.py:151: DeprecationWarning: The truth value of an empty array is ambiguous. Returning False, but in future this will result in an error. Use `array.size > 0` to check that an array is not empty.\n",
      "  if diff:\n"
     ]
    },
    {
     "name": "stdout",
     "output_type": "stream",
     "text": [
      "[CV]  colsample_bytree=0.7, learning_rate=0.1, max_depth=6, n_estimators=100, nthread=3, objective=binary:logistic, reg_alpha=1, seed=42, total=  40.8s\n",
      "[CV] colsample_bytree=0.7, learning_rate=0.1, max_depth=6, n_estimators=100, nthread=3, objective=binary:logistic, reg_alpha=1, seed=42 \n"
     ]
    },
    {
     "name": "stderr",
     "output_type": "stream",
     "text": [
      "/home/mbauw/anaconda3/lib/python3.7/site-packages/sklearn/preprocessing/label.py:151: DeprecationWarning: The truth value of an empty array is ambiguous. Returning False, but in future this will result in an error. Use `array.size > 0` to check that an array is not empty.\n",
      "  if diff:\n",
      "/home/mbauw/anaconda3/lib/python3.7/site-packages/sklearn/preprocessing/label.py:151: DeprecationWarning: The truth value of an empty array is ambiguous. Returning False, but in future this will result in an error. Use `array.size > 0` to check that an array is not empty.\n",
      "  if diff:\n"
     ]
    },
    {
     "name": "stdout",
     "output_type": "stream",
     "text": [
      "[CV]  colsample_bytree=0.7, learning_rate=0.1, max_depth=6, n_estimators=100, nthread=3, objective=binary:logistic, reg_alpha=1, seed=42, total=  40.6s\n",
      "[CV] colsample_bytree=0.7, learning_rate=0.1, max_depth=6, n_estimators=100, nthread=3, objective=binary:logistic, reg_alpha=2, seed=42 \n"
     ]
    },
    {
     "name": "stderr",
     "output_type": "stream",
     "text": [
      "/home/mbauw/anaconda3/lib/python3.7/site-packages/sklearn/preprocessing/label.py:151: DeprecationWarning: The truth value of an empty array is ambiguous. Returning False, but in future this will result in an error. Use `array.size > 0` to check that an array is not empty.\n",
      "  if diff:\n",
      "/home/mbauw/anaconda3/lib/python3.7/site-packages/sklearn/preprocessing/label.py:151: DeprecationWarning: The truth value of an empty array is ambiguous. Returning False, but in future this will result in an error. Use `array.size > 0` to check that an array is not empty.\n",
      "  if diff:\n"
     ]
    },
    {
     "name": "stdout",
     "output_type": "stream",
     "text": [
      "[CV]  colsample_bytree=0.7, learning_rate=0.1, max_depth=6, n_estimators=100, nthread=3, objective=binary:logistic, reg_alpha=2, seed=42, total=  40.3s\n",
      "[CV] colsample_bytree=0.7, learning_rate=0.1, max_depth=6, n_estimators=100, nthread=3, objective=binary:logistic, reg_alpha=2, seed=42 \n"
     ]
    },
    {
     "name": "stderr",
     "output_type": "stream",
     "text": [
      "/home/mbauw/anaconda3/lib/python3.7/site-packages/sklearn/preprocessing/label.py:151: DeprecationWarning: The truth value of an empty array is ambiguous. Returning False, but in future this will result in an error. Use `array.size > 0` to check that an array is not empty.\n",
      "  if diff:\n",
      "/home/mbauw/anaconda3/lib/python3.7/site-packages/sklearn/preprocessing/label.py:151: DeprecationWarning: The truth value of an empty array is ambiguous. Returning False, but in future this will result in an error. Use `array.size > 0` to check that an array is not empty.\n",
      "  if diff:\n"
     ]
    },
    {
     "name": "stdout",
     "output_type": "stream",
     "text": [
      "[CV]  colsample_bytree=0.7, learning_rate=0.1, max_depth=6, n_estimators=100, nthread=3, objective=binary:logistic, reg_alpha=2, seed=42, total=  40.7s\n",
      "[CV] colsample_bytree=0.7, learning_rate=0.1, max_depth=6, n_estimators=100, nthread=3, objective=binary:logistic, reg_alpha=2, seed=42 \n"
     ]
    },
    {
     "name": "stderr",
     "output_type": "stream",
     "text": [
      "/home/mbauw/anaconda3/lib/python3.7/site-packages/sklearn/preprocessing/label.py:151: DeprecationWarning: The truth value of an empty array is ambiguous. Returning False, but in future this will result in an error. Use `array.size > 0` to check that an array is not empty.\n",
      "  if diff:\n",
      "/home/mbauw/anaconda3/lib/python3.7/site-packages/sklearn/preprocessing/label.py:151: DeprecationWarning: The truth value of an empty array is ambiguous. Returning False, but in future this will result in an error. Use `array.size > 0` to check that an array is not empty.\n",
      "  if diff:\n",
      "[Parallel(n_jobs=1)]: Done  54 out of  54 | elapsed: 28.8min finished\n"
     ]
    },
    {
     "name": "stdout",
     "output_type": "stream",
     "text": [
      "[CV]  colsample_bytree=0.7, learning_rate=0.1, max_depth=6, n_estimators=100, nthread=3, objective=binary:logistic, reg_alpha=2, seed=42, total=  40.7s\n"
     ]
    },
    {
     "data": {
      "text/plain": [
       "GridSearchCV(cv=None, error_score='raise',\n",
       "       estimator=XGBClassifier(base_score=0.5, booster='gbtree', colsample_bylevel=1,\n",
       "       colsample_bytree=1, gamma=0, learning_rate=0.1, max_delta_step=0,\n",
       "       max_depth=3, min_child_weight=1, missing=None, n_estimators=100,\n",
       "       n_jobs=1, nthread=None, objective='binary:logistic', random_state=0,\n",
       "       reg_alpha=0, reg_lambda=1, scale_pos_weight=1, seed=None,\n",
       "       silent=True, subsample=1),\n",
       "       fit_params=None, iid=True, n_jobs=1,\n",
       "       param_grid={'objective': ['binary:logistic'], 'colsample_bytree': [0.4, 0.5, 0.7], 'learning_rate': [0.1], 'max_depth': [5, 6], 'reg_alpha': [0, 1, 2], 'n_estimators': [100], 'seed': [42], 'nthread': [3]},\n",
       "       pre_dispatch='2*n_jobs', refit='f1_micro',\n",
       "       return_train_score='warn', scoring=['f1_micro'], verbose=2)"
      ]
     },
     "execution_count": 51,
     "metadata": {},
     "output_type": "execute_result"
    }
   ],
   "source": [
    "########################################################\n",
    "# GridSearchCV on part of the possible hyperparameters #\n",
    "########################################################\n",
    "\n",
    "xgb_classifier = xgb.XGBClassifier()\n",
    "\n",
    "parameters = {'objective':['binary:logistic'],             \n",
    "              'colsample_bytree':[0.4,0.5,0.7],\n",
    "              'learning_rate':[0.1],\n",
    "              'max_depth':[5,6],\n",
    "              'reg_alpha':[0,1,2],\n",
    "              'n_estimators':[100],\n",
    "              'seed':[42],\n",
    "              'nthread':[3]}\n",
    "\n",
    "classifier = GridSearchCV(xgb_classifier,parameters,verbose=2,scoring=[\"f1_micro\"],refit=\"f1_micro\")\n",
    "classifier.fit(train_data.values,train_target.values)\n",
    "\n"
   ]
  },
  {
   "cell_type": "code",
   "execution_count": 52,
   "metadata": {},
   "outputs": [
    {
     "name": "stdout",
     "output_type": "stream",
     "text": [
      "{'mean_fit_time': array([22.82486884, 25.25702802, 21.84668501, 26.66145047, 26.38067142,\n",
      "       26.31171902, 25.56809251, 25.39713907, 27.50464288, 33.45486204,\n",
      "       31.5140202 , 30.65272657, 33.68358548, 33.46049968, 33.01726683,\n",
      "       40.16932336, 40.02784173, 39.97566835]), 'std_fit_time': array([1.04233304, 3.75990061, 0.13604785, 0.04794223, 0.05557851,\n",
      "       0.10423215, 0.15755359, 0.04804934, 2.64788352, 0.69974269,\n",
      "       0.2538939 , 0.16149946, 0.78994813, 0.50224678, 0.13043733,\n",
      "       0.13471566, 0.1172104 , 0.18379597]), 'mean_score_time': array([0.55579813, 0.71059942, 0.50417296, 0.64239542, 0.60464883,\n",
      "       0.60298975, 0.51543554, 0.51468158, 0.55750124, 0.63731345,\n",
      "       0.6116124 , 0.59281452, 0.50583839, 0.49284601, 0.48734021,\n",
      "       0.62815515, 0.58464344, 0.58658536]), 'std_score_time': array([0.03528071, 0.25056108, 0.00991988, 0.0126386 , 0.00199198,\n",
      "       0.00876507, 0.00639322, 0.0095465 , 0.0529283 , 0.01283534,\n",
      "       0.00253615, 0.00749034, 0.01144727, 0.00477682, 0.01421383,\n",
      "       0.03849268, 0.01057849, 0.00480042]), 'param_colsample_bytree': masked_array(data=[0.4, 0.4, 0.4, 0.4, 0.4, 0.4, 0.5, 0.5, 0.5, 0.5, 0.5,\n",
      "                   0.5, 0.7, 0.7, 0.7, 0.7, 0.7, 0.7],\n",
      "             mask=[False, False, False, False, False, False, False, False,\n",
      "                   False, False, False, False, False, False, False, False,\n",
      "                   False, False],\n",
      "       fill_value='?',\n",
      "            dtype=object), 'param_learning_rate': masked_array(data=[0.1, 0.1, 0.1, 0.1, 0.1, 0.1, 0.1, 0.1, 0.1, 0.1, 0.1,\n",
      "                   0.1, 0.1, 0.1, 0.1, 0.1, 0.1, 0.1],\n",
      "             mask=[False, False, False, False, False, False, False, False,\n",
      "                   False, False, False, False, False, False, False, False,\n",
      "                   False, False],\n",
      "       fill_value='?',\n",
      "            dtype=object), 'param_max_depth': masked_array(data=[5, 5, 5, 6, 6, 6, 5, 5, 5, 6, 6, 6, 5, 5, 5, 6, 6, 6],\n",
      "             mask=[False, False, False, False, False, False, False, False,\n",
      "                   False, False, False, False, False, False, False, False,\n",
      "                   False, False],\n",
      "       fill_value='?',\n",
      "            dtype=object), 'param_n_estimators': masked_array(data=[100, 100, 100, 100, 100, 100, 100, 100, 100, 100, 100,\n",
      "                   100, 100, 100, 100, 100, 100, 100],\n",
      "             mask=[False, False, False, False, False, False, False, False,\n",
      "                   False, False, False, False, False, False, False, False,\n",
      "                   False, False],\n",
      "       fill_value='?',\n",
      "            dtype=object), 'param_nthread': masked_array(data=[3, 3, 3, 3, 3, 3, 3, 3, 3, 3, 3, 3, 3, 3, 3, 3, 3, 3],\n",
      "             mask=[False, False, False, False, False, False, False, False,\n",
      "                   False, False, False, False, False, False, False, False,\n",
      "                   False, False],\n",
      "       fill_value='?',\n",
      "            dtype=object), 'param_objective': masked_array(data=['binary:logistic', 'binary:logistic',\n",
      "                   'binary:logistic', 'binary:logistic',\n",
      "                   'binary:logistic', 'binary:logistic',\n",
      "                   'binary:logistic', 'binary:logistic',\n",
      "                   'binary:logistic', 'binary:logistic',\n",
      "                   'binary:logistic', 'binary:logistic',\n",
      "                   'binary:logistic', 'binary:logistic',\n",
      "                   'binary:logistic', 'binary:logistic',\n",
      "                   'binary:logistic', 'binary:logistic'],\n",
      "             mask=[False, False, False, False, False, False, False, False,\n",
      "                   False, False, False, False, False, False, False, False,\n",
      "                   False, False],\n",
      "       fill_value='?',\n",
      "            dtype=object), 'param_reg_alpha': masked_array(data=[0, 1, 2, 0, 1, 2, 0, 1, 2, 0, 1, 2, 0, 1, 2, 0, 1, 2],\n",
      "             mask=[False, False, False, False, False, False, False, False,\n",
      "                   False, False, False, False, False, False, False, False,\n",
      "                   False, False],\n",
      "       fill_value='?',\n",
      "            dtype=object), 'param_seed': masked_array(data=[42, 42, 42, 42, 42, 42, 42, 42, 42, 42, 42, 42, 42, 42,\n",
      "                   42, 42, 42, 42],\n",
      "             mask=[False, False, False, False, False, False, False, False,\n",
      "                   False, False, False, False, False, False, False, False,\n",
      "                   False, False],\n",
      "       fill_value='?',\n",
      "            dtype=object), 'params': [{'colsample_bytree': 0.4, 'learning_rate': 0.1, 'max_depth': 5, 'n_estimators': 100, 'nthread': 3, 'objective': 'binary:logistic', 'reg_alpha': 0, 'seed': 42}, {'colsample_bytree': 0.4, 'learning_rate': 0.1, 'max_depth': 5, 'n_estimators': 100, 'nthread': 3, 'objective': 'binary:logistic', 'reg_alpha': 1, 'seed': 42}, {'colsample_bytree': 0.4, 'learning_rate': 0.1, 'max_depth': 5, 'n_estimators': 100, 'nthread': 3, 'objective': 'binary:logistic', 'reg_alpha': 2, 'seed': 42}, {'colsample_bytree': 0.4, 'learning_rate': 0.1, 'max_depth': 6, 'n_estimators': 100, 'nthread': 3, 'objective': 'binary:logistic', 'reg_alpha': 0, 'seed': 42}, {'colsample_bytree': 0.4, 'learning_rate': 0.1, 'max_depth': 6, 'n_estimators': 100, 'nthread': 3, 'objective': 'binary:logistic', 'reg_alpha': 1, 'seed': 42}, {'colsample_bytree': 0.4, 'learning_rate': 0.1, 'max_depth': 6, 'n_estimators': 100, 'nthread': 3, 'objective': 'binary:logistic', 'reg_alpha': 2, 'seed': 42}, {'colsample_bytree': 0.5, 'learning_rate': 0.1, 'max_depth': 5, 'n_estimators': 100, 'nthread': 3, 'objective': 'binary:logistic', 'reg_alpha': 0, 'seed': 42}, {'colsample_bytree': 0.5, 'learning_rate': 0.1, 'max_depth': 5, 'n_estimators': 100, 'nthread': 3, 'objective': 'binary:logistic', 'reg_alpha': 1, 'seed': 42}, {'colsample_bytree': 0.5, 'learning_rate': 0.1, 'max_depth': 5, 'n_estimators': 100, 'nthread': 3, 'objective': 'binary:logistic', 'reg_alpha': 2, 'seed': 42}, {'colsample_bytree': 0.5, 'learning_rate': 0.1, 'max_depth': 6, 'n_estimators': 100, 'nthread': 3, 'objective': 'binary:logistic', 'reg_alpha': 0, 'seed': 42}, {'colsample_bytree': 0.5, 'learning_rate': 0.1, 'max_depth': 6, 'n_estimators': 100, 'nthread': 3, 'objective': 'binary:logistic', 'reg_alpha': 1, 'seed': 42}, {'colsample_bytree': 0.5, 'learning_rate': 0.1, 'max_depth': 6, 'n_estimators': 100, 'nthread': 3, 'objective': 'binary:logistic', 'reg_alpha': 2, 'seed': 42}, {'colsample_bytree': 0.7, 'learning_rate': 0.1, 'max_depth': 5, 'n_estimators': 100, 'nthread': 3, 'objective': 'binary:logistic', 'reg_alpha': 0, 'seed': 42}, {'colsample_bytree': 0.7, 'learning_rate': 0.1, 'max_depth': 5, 'n_estimators': 100, 'nthread': 3, 'objective': 'binary:logistic', 'reg_alpha': 1, 'seed': 42}, {'colsample_bytree': 0.7, 'learning_rate': 0.1, 'max_depth': 5, 'n_estimators': 100, 'nthread': 3, 'objective': 'binary:logistic', 'reg_alpha': 2, 'seed': 42}, {'colsample_bytree': 0.7, 'learning_rate': 0.1, 'max_depth': 6, 'n_estimators': 100, 'nthread': 3, 'objective': 'binary:logistic', 'reg_alpha': 0, 'seed': 42}, {'colsample_bytree': 0.7, 'learning_rate': 0.1, 'max_depth': 6, 'n_estimators': 100, 'nthread': 3, 'objective': 'binary:logistic', 'reg_alpha': 1, 'seed': 42}, {'colsample_bytree': 0.7, 'learning_rate': 0.1, 'max_depth': 6, 'n_estimators': 100, 'nthread': 3, 'objective': 'binary:logistic', 'reg_alpha': 2, 'seed': 42}], 'split0_test_f1_micro': array([0.78897615, 0.7890731 , 0.78703704, 0.79600543, 0.79605391,\n",
      "       0.79522978, 0.79033353, 0.79004266, 0.7886368 , 0.79750824,\n",
      "       0.79610239, 0.79392088, 0.79159395, 0.79081831, 0.79149699,\n",
      "       0.79697499, 0.79779911, 0.79750824]), 'split1_test_f1_micro': array([0.78895569, 0.78929506, 0.78822845, 0.79545234, 0.79385242,\n",
      "       0.79399787, 0.79055561, 0.79026471, 0.7889072 , 0.79622806,\n",
      "       0.79651896, 0.79443421, 0.7922525 , 0.7922525 , 0.79147678,\n",
      "       0.7980704 , 0.79758557, 0.79661592]), 'split2_test_f1_micro': array([0.79397789, 0.79300815, 0.79145656, 0.80134794, 0.79931148,\n",
      "       0.79897207, 0.79441427, 0.79475369, 0.79378394, 0.80081458,\n",
      "       0.80129946, 0.80139643, 0.79514158, 0.79373545, 0.79198991,\n",
      "       0.7999903 , 0.80028123, 0.80013576]), 'mean_test_f1_micro': array([0.79063641, 0.79045864, 0.7889072 , 0.79760173, 0.79640583,\n",
      "       0.79606645, 0.79176767, 0.79168687, 0.79044248, 0.79818352,\n",
      "       0.79797343, 0.7965836 , 0.7929959 , 0.79226866, 0.79165455,\n",
      "       0.79834513, 0.79855522, 0.79808656]), 'std_test_f1_micro': array([0.00236262, 0.00180491, 0.00186701, 0.00265839, 0.00224245,\n",
      "       0.0021151 , 0.00187349, 0.0021703 , 0.00236517, 0.00193233,\n",
      "       0.00235783, 0.00340939, 0.00154076, 0.00119098, 0.00023727,\n",
      "       0.00124623, 0.00122349, 0.001494  ]), 'rank_test_f1_micro': array([15, 16, 18,  6,  8,  9, 12, 13, 17,  3,  5,  7, 10, 11, 14,  2,  1,\n",
      "        4], dtype=int32), 'split0_train_f1_micro': array([0.8209697 , 0.81827879, 0.81604848, 0.84341818, 0.83878788,\n",
      "       0.83309091, 0.82293333, 0.81934545, 0.81687273, 0.84603636,\n",
      "       0.84036364, 0.83507879, 0.82511515, 0.82295758, 0.81990303,\n",
      "       0.84870303, 0.84344242, 0.83912727]), 'split1_train_f1_micro': array([0.81899059, 0.81719674, 0.81467565, 0.84204402, 0.83874721,\n",
      "       0.83217783, 0.82129351, 0.81882091, 0.81600892, 0.84315912,\n",
      "       0.8372685 , 0.83426258, 0.82323281, 0.82107534, 0.8182876 ,\n",
      "       0.84730437, 0.84284398, 0.83818966]), 'split2_train_f1_micro': array([0.81706016, 0.81485432, 0.81141223, 0.8411548 , 0.83591894,\n",
      "       0.83063461, 0.81810249, 0.81718136, 0.81376351, 0.84207592,\n",
      "       0.83902167, 0.83298589, 0.82115674, 0.81890241, 0.81642992,\n",
      "       0.84719058, 0.84137296, 0.83681582]), 'mean_train_f1_micro': array([0.81900682, 0.81677662, 0.81404545, 0.84220567, 0.83781801,\n",
      "       0.83196778, 0.82077644, 0.81844924, 0.81554839, 0.84375713,\n",
      "       0.8388846 , 0.83410909, 0.82316823, 0.82097844, 0.81820685,\n",
      "       0.84773266, 0.84255312, 0.83804425]), 'std_train_f1_micro': array([0.0015961 , 0.00142925, 0.00194449, 0.00093107, 0.00134295,\n",
      "       0.00101372, 0.00200579, 0.00092175, 0.00131044, 0.00167123,\n",
      "       0.0012673 , 0.00086129, 0.00161666, 0.00165693, 0.00141904,\n",
      "       0.00068773, 0.00086953, 0.00094923])}\n"
     ]
    },
    {
     "data": {
      "text/plain": [
       "{'colsample_bytree': 0.7,\n",
       " 'learning_rate': 0.1,\n",
       " 'max_depth': 6,\n",
       " 'n_estimators': 100,\n",
       " 'nthread': 3,\n",
       " 'objective': 'binary:logistic',\n",
       " 'reg_alpha': 1,\n",
       " 'seed': 42}"
      ]
     },
     "execution_count": 52,
     "metadata": {},
     "output_type": "execute_result"
    }
   ],
   "source": [
    "################################\n",
    "# Show results of GridSearchCV #\n",
    "################################\n",
    "\n",
    "print(classifier.cv_results_)\n",
    "classifier.best_params_"
   ]
  },
  {
   "cell_type": "markdown",
   "metadata": {},
   "source": [
    "# Now run with best parameters found thanks to GridSearchCV"
   ]
  },
  {
   "cell_type": "code",
   "execution_count": 53,
   "metadata": {},
   "outputs": [],
   "source": [
    "classifier.best_params_['seed']\n",
    "\n",
    "# regarding python kwards to forward best parameters check url below\n",
    "# https://stackoverflow.com/questions/41475539/using-best-params-from-gridsearchcv\n",
    "xgb_best_classifier = xgb.XGBClassifier(**classifier.best_params_)\n",
    "\n",
    "xgb_best_classifier.fit(train_data,train_target)\n",
    "preds = xgb_best_classifier.predict_proba(test_data)"
   ]
  },
  {
   "cell_type": "code",
   "execution_count": 54,
   "metadata": {},
   "outputs": [],
   "source": [
    "#####################################################\n",
    "# CREATING .CSV RESPECTING KAGGLE SUBMISSION FORMAT #\n",
    "#####################################################\n",
    "\n",
    "preds = pd.DataFrame(preds)\n",
    "namesRow = [\"Class_1\",\"Class_2\",\"Class_3\",\"Class_4\",\"Class_5\",\"Class_6\",\"Class_7\",\"Class_8\",\"Class_9\"]\n",
    "preds.columns = namesRow\n",
    "preds.head()\n",
    "\n",
    "preds.index +=1\n",
    "preds.to_csv(\"results_grid_xgboost.csv\", encoding='utf-8',index=True,index_label=\"id\")"
   ]
  },
  {
   "cell_type": "code",
   "execution_count": null,
   "metadata": {},
   "outputs": [],
   "source": []
  }
 ],
 "metadata": {
  "kernelspec": {
   "display_name": "Python 3",
   "language": "python",
   "name": "python3"
  },
  "language_info": {
   "codemirror_mode": {
    "name": "ipython",
    "version": 3
   },
   "file_extension": ".py",
   "mimetype": "text/x-python",
   "name": "python",
   "nbconvert_exporter": "python",
   "pygments_lexer": "ipython3",
   "version": "3.7.0"
  }
 },
 "nbformat": 4,
 "nbformat_minor": 2
}
